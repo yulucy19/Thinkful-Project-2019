{
 "cells": [
  {
   "cell_type": "markdown",
   "metadata": {},
   "source": [
    "# Cookie Cats Data A/B Test Project\n",
    "\n",
    "## Project Description:\n",
    "\n",
    "This Cookie_cats data is obtained from Kaggle. Cookie Cats is a hugely popular mobile puzzle game developed by Tactile Entertainment. It's a classic \"connect three\" style puzzle game where the player must connect tiles of the same color in order to clear the board and win the level. It also features singing cats. We're not kidding! As players progress through the game they will encounter gates that force them to wait some time before they can progress or make an in-app purchase.\n",
    "\n",
    "In this project, we will analyze the result of an A/B test where the first gate in Cookie Cats was moved from level 30 to level 40. In particular, we will analyze the impact on player retention. \n",
    "\n",
    "The Cookie_cats data set has 90189 rows and 5 columns. The columns include userid, version, sum_gamerounds, retention_1, retention_7. “userid” is a unique number that identifies each player. “version” is  whether the player was put in the control group (gate_30 - a gate at level 30) or the test group with the moved gate (gate_40 - a gate at level 40). “sum_gamerounds” means the number of game rounds played by the player during the first 14 days after install. “retention_1” means whether the players come back and play 1 day after installing the app or not. “retention_7” means whether the players come back and play 7 days after installing the app or not.\n",
    "\n",
    "In this project, we will conduct A/B test and assume gate_40 will have more player retention. Then the null hypothesis is proposed as no difference between gate_30 and gate_40 for player retention. Further, we will compute the number of game rounds played by the player during the first 14 days after installing the app for these two groups: gate_30 and gate_40. Also, significant difference or not on the number of game rounds played (sum_gamerounds) between these two groups will be investigated as a secondary metric.  A t-test, z-test and p-value of 0.05 are used in this project.\n",
    "\n",
    "Two stages are designed for this A/B test. First, a rollout plan is to investigate player retention after one day playing. Becuase this data set already provided two group sizes (almost same size half-half 50:50, about 45000), let's use these sample sizes for A/B test. Next, it is about investigating 7-day retention: there is any difference between these two groups? \n",
    "\n",
    "Hence, this project task will have: \n",
    "   * The distribution of game rounds\n",
    "   * Overall 1-day retention\n",
    "   * 1-day retention by AB-group\n",
    "   * Should we be confident in the difference\n",
    "   * Zooming in on the difference\n",
    "   * The probability of a difference\n",
    "   * 7-day retention by AB-group\n",
    "   * Bootstrapping the difference again\n",
    "\n",
    "Now, let's start to take a look data."
   ]
  },
  {
   "cell_type": "code",
   "execution_count": 2,
   "metadata": {},
   "outputs": [],
   "source": [
    "import pandas as pd\n",
    "import numpy as np\n",
    "import seaborn as sns\n",
    "from matplotlib import pyplot as plt\n",
    "from scipy import stats\n",
    "%matplotlib inline"
   ]
  },
  {
   "cell_type": "code",
   "execution_count": 3,
   "metadata": {
    "scrolled": true
   },
   "outputs": [
    {
     "data": {
      "text/html": [
       "<div>\n",
       "<style scoped>\n",
       "    .dataframe tbody tr th:only-of-type {\n",
       "        vertical-align: middle;\n",
       "    }\n",
       "\n",
       "    .dataframe tbody tr th {\n",
       "        vertical-align: top;\n",
       "    }\n",
       "\n",
       "    .dataframe thead th {\n",
       "        text-align: right;\n",
       "    }\n",
       "</style>\n",
       "<table border=\"1\" class=\"dataframe\">\n",
       "  <thead>\n",
       "    <tr style=\"text-align: right;\">\n",
       "      <th></th>\n",
       "      <th>userid</th>\n",
       "      <th>version</th>\n",
       "      <th>sum_gamerounds</th>\n",
       "      <th>retention_1</th>\n",
       "      <th>retention_7</th>\n",
       "    </tr>\n",
       "  </thead>\n",
       "  <tbody>\n",
       "    <tr>\n",
       "      <th>0</th>\n",
       "      <td>116</td>\n",
       "      <td>gate_30</td>\n",
       "      <td>3</td>\n",
       "      <td>False</td>\n",
       "      <td>False</td>\n",
       "    </tr>\n",
       "    <tr>\n",
       "      <th>1</th>\n",
       "      <td>337</td>\n",
       "      <td>gate_30</td>\n",
       "      <td>38</td>\n",
       "      <td>True</td>\n",
       "      <td>False</td>\n",
       "    </tr>\n",
       "    <tr>\n",
       "      <th>2</th>\n",
       "      <td>377</td>\n",
       "      <td>gate_40</td>\n",
       "      <td>165</td>\n",
       "      <td>True</td>\n",
       "      <td>False</td>\n",
       "    </tr>\n",
       "    <tr>\n",
       "      <th>3</th>\n",
       "      <td>483</td>\n",
       "      <td>gate_40</td>\n",
       "      <td>1</td>\n",
       "      <td>False</td>\n",
       "      <td>False</td>\n",
       "    </tr>\n",
       "    <tr>\n",
       "      <th>4</th>\n",
       "      <td>488</td>\n",
       "      <td>gate_40</td>\n",
       "      <td>179</td>\n",
       "      <td>True</td>\n",
       "      <td>True</td>\n",
       "    </tr>\n",
       "    <tr>\n",
       "      <th>5</th>\n",
       "      <td>540</td>\n",
       "      <td>gate_40</td>\n",
       "      <td>187</td>\n",
       "      <td>True</td>\n",
       "      <td>True</td>\n",
       "    </tr>\n",
       "    <tr>\n",
       "      <th>6</th>\n",
       "      <td>1066</td>\n",
       "      <td>gate_30</td>\n",
       "      <td>0</td>\n",
       "      <td>False</td>\n",
       "      <td>False</td>\n",
       "    </tr>\n",
       "    <tr>\n",
       "      <th>7</th>\n",
       "      <td>1444</td>\n",
       "      <td>gate_40</td>\n",
       "      <td>2</td>\n",
       "      <td>False</td>\n",
       "      <td>False</td>\n",
       "    </tr>\n",
       "    <tr>\n",
       "      <th>8</th>\n",
       "      <td>1574</td>\n",
       "      <td>gate_40</td>\n",
       "      <td>108</td>\n",
       "      <td>True</td>\n",
       "      <td>True</td>\n",
       "    </tr>\n",
       "    <tr>\n",
       "      <th>9</th>\n",
       "      <td>1587</td>\n",
       "      <td>gate_40</td>\n",
       "      <td>153</td>\n",
       "      <td>True</td>\n",
       "      <td>False</td>\n",
       "    </tr>\n",
       "  </tbody>\n",
       "</table>\n",
       "</div>"
      ],
      "text/plain": [
       "   userid  version  sum_gamerounds  retention_1  retention_7\n",
       "0     116  gate_30               3        False        False\n",
       "1     337  gate_30              38         True        False\n",
       "2     377  gate_40             165         True        False\n",
       "3     483  gate_40               1        False        False\n",
       "4     488  gate_40             179         True         True\n",
       "5     540  gate_40             187         True         True\n",
       "6    1066  gate_30               0        False        False\n",
       "7    1444  gate_40               2        False        False\n",
       "8    1574  gate_40             108         True         True\n",
       "9    1587  gate_40             153         True        False"
      ]
     },
     "execution_count": 3,
     "metadata": {},
     "output_type": "execute_result"
    }
   ],
   "source": [
    "PATH = 'C:/Users/yuluc/OneDrive/Documents/Thinkful/Module 14/cookie_cats.csv'\n",
    "experiment_data = pd.read_csv(PATH)\n",
    "experiment_data.head(10)"
   ]
  },
  {
   "cell_type": "markdown",
   "metadata": {},
   "source": [
    "This data set has 5 columns as mentioned in above description section. And let's continue to look at data set other information. The code is given below. "
   ]
  },
  {
   "cell_type": "code",
   "execution_count": 4,
   "metadata": {},
   "outputs": [
    {
     "data": {
      "text/plain": [
       "(90189, 5)"
      ]
     },
     "execution_count": 4,
     "metadata": {},
     "output_type": "execute_result"
    }
   ],
   "source": [
    "# This data set contains the number of rows and columns.\n",
    "experiment_data.shape"
   ]
  },
  {
   "cell_type": "code",
   "execution_count": 5,
   "metadata": {},
   "outputs": [
    {
     "name": "stdout",
     "output_type": "stream",
     "text": [
      "test sample size: 44700\n",
      "control sample size: 45489\n",
      "test proportion: 0.49562585237667567\n"
     ]
    }
   ],
   "source": [
    "# How large is test group and control group?\n",
    "\n",
    "test_size = len(experiment_data[experiment_data.version == 'gate_30'])\n",
    "control_size = len(experiment_data[experiment_data.version == 'gate_40'])\n",
    "print('test sample size:', test_size)\n",
    "print('control sample size:', control_size)\n",
    "\n",
    "test_proportion = test_size/ (test_size + control_size)\n",
    "print('test proportion:',test_proportion)"
   ]
  },
  {
   "cell_type": "markdown",
   "metadata": {},
   "source": [
    "From the test proportion, it can be seen that test group and control group sizes are almost same, test is a slight less than control and about 49.6%."
   ]
  },
  {
   "cell_type": "code",
   "execution_count": 6,
   "metadata": {},
   "outputs": [
    {
     "data": {
      "text/html": [
       "<div>\n",
       "<style scoped>\n",
       "    .dataframe tbody tr th:only-of-type {\n",
       "        vertical-align: middle;\n",
       "    }\n",
       "\n",
       "    .dataframe tbody tr th {\n",
       "        vertical-align: top;\n",
       "    }\n",
       "\n",
       "    .dataframe thead tr th {\n",
       "        text-align: left;\n",
       "    }\n",
       "\n",
       "    .dataframe thead tr:last-of-type th {\n",
       "        text-align: right;\n",
       "    }\n",
       "</style>\n",
       "<table border=\"1\" class=\"dataframe\">\n",
       "  <thead>\n",
       "    <tr>\n",
       "      <th></th>\n",
       "      <th colspan=\"8\" halign=\"left\">sum_gamerounds</th>\n",
       "    </tr>\n",
       "    <tr>\n",
       "      <th></th>\n",
       "      <th>count</th>\n",
       "      <th>mean</th>\n",
       "      <th>std</th>\n",
       "      <th>min</th>\n",
       "      <th>25%</th>\n",
       "      <th>50%</th>\n",
       "      <th>75%</th>\n",
       "      <th>max</th>\n",
       "    </tr>\n",
       "    <tr>\n",
       "      <th>version</th>\n",
       "      <th></th>\n",
       "      <th></th>\n",
       "      <th></th>\n",
       "      <th></th>\n",
       "      <th></th>\n",
       "      <th></th>\n",
       "      <th></th>\n",
       "      <th></th>\n",
       "    </tr>\n",
       "  </thead>\n",
       "  <tbody>\n",
       "    <tr>\n",
       "      <th>gate_30</th>\n",
       "      <td>44700.0</td>\n",
       "      <td>52.456264</td>\n",
       "      <td>256.716423</td>\n",
       "      <td>0.0</td>\n",
       "      <td>5.0</td>\n",
       "      <td>17.0</td>\n",
       "      <td>50.0</td>\n",
       "      <td>49854.0</td>\n",
       "    </tr>\n",
       "    <tr>\n",
       "      <th>gate_40</th>\n",
       "      <td>45489.0</td>\n",
       "      <td>51.298776</td>\n",
       "      <td>103.294416</td>\n",
       "      <td>0.0</td>\n",
       "      <td>5.0</td>\n",
       "      <td>16.0</td>\n",
       "      <td>52.0</td>\n",
       "      <td>2640.0</td>\n",
       "    </tr>\n",
       "  </tbody>\n",
       "</table>\n",
       "</div>"
      ],
      "text/plain": [
       "        sum_gamerounds                                                      \n",
       "                 count       mean         std  min  25%   50%   75%      max\n",
       "version                                                                     \n",
       "gate_30        44700.0  52.456264  256.716423  0.0  5.0  17.0  50.0  49854.0\n",
       "gate_40        45489.0  51.298776  103.294416  0.0  5.0  16.0  52.0   2640.0"
      ]
     },
     "execution_count": 6,
     "metadata": {},
     "output_type": "execute_result"
    }
   ],
   "source": [
    "# Task 1: What is the sum_game rounds distribution for test and control group?\n",
    "experiment_data[['version', 'sum_gamerounds']].groupby('version').describe()"
   ]
  },
  {
   "cell_type": "code",
   "execution_count": 7,
   "metadata": {},
   "outputs": [
    {
     "data": {
      "text/plain": [
       "Ttest_indResult(statistic=0.8910426211362967, pvalue=0.37290868247405207)"
      ]
     },
     "execution_count": 7,
     "metadata": {},
     "output_type": "execute_result"
    }
   ],
   "source": [
    "# Are the test and control groups significantly different?\n",
    "stats.ttest_ind(experiment_data[experiment_data.version == 'gate_30'].sum_gamerounds,\n",
    "                experiment_data[experiment_data.version == 'gate_40'].sum_gamerounds)"
   ]
  },
  {
   "cell_type": "markdown",
   "metadata": {},
   "source": [
    "P-value obtained about 0.37 (more than 0.05) implied that overall there is is no significantly different for the number of game rounds played by the player during the first 14 days for both test group-gate_40 and control group-gate_30.\n",
    "\n",
    "next let's check the situation about 1-day playing."
   ]
  },
  {
   "cell_type": "markdown",
   "metadata": {},
   "source": [
    "## After One Day"
   ]
  },
  {
   "cell_type": "code",
   "execution_count": 8,
   "metadata": {},
   "outputs": [
    {
     "name": "stdout",
     "output_type": "stream",
     "text": [
      "False    50036\n",
      "True     40153\n",
      "Name: retention_1, dtype: int64\n"
     ]
    },
    {
     "data": {
      "text/plain": [
       "count     90189\n",
       "unique        2\n",
       "top       False\n",
       "freq      50036\n",
       "Name: retention_1, dtype: object"
      ]
     },
     "execution_count": 8,
     "metadata": {},
     "output_type": "execute_result"
    }
   ],
   "source": [
    "# Task 2: Overall 1-day retention.\n",
    "print(experiment_data['retention_1'].value_counts())\n",
    "experiment_data['retention_1'].describe()"
   ]
  },
  {
   "cell_type": "code",
   "execution_count": 9,
   "metadata": {},
   "outputs": [
    {
     "data": {
      "text/html": [
       "<div>\n",
       "<style scoped>\n",
       "    .dataframe tbody tr th:only-of-type {\n",
       "        vertical-align: middle;\n",
       "    }\n",
       "\n",
       "    .dataframe tbody tr th {\n",
       "        vertical-align: top;\n",
       "    }\n",
       "\n",
       "    .dataframe thead tr th {\n",
       "        text-align: left;\n",
       "    }\n",
       "\n",
       "    .dataframe thead tr:last-of-type th {\n",
       "        text-align: right;\n",
       "    }\n",
       "</style>\n",
       "<table border=\"1\" class=\"dataframe\">\n",
       "  <thead>\n",
       "    <tr>\n",
       "      <th></th>\n",
       "      <th colspan=\"4\" halign=\"left\">retention_1</th>\n",
       "    </tr>\n",
       "    <tr>\n",
       "      <th></th>\n",
       "      <th>count</th>\n",
       "      <th>unique</th>\n",
       "      <th>top</th>\n",
       "      <th>freq</th>\n",
       "    </tr>\n",
       "    <tr>\n",
       "      <th>version</th>\n",
       "      <th></th>\n",
       "      <th></th>\n",
       "      <th></th>\n",
       "      <th></th>\n",
       "    </tr>\n",
       "  </thead>\n",
       "  <tbody>\n",
       "    <tr>\n",
       "      <th>gate_30</th>\n",
       "      <td>44700</td>\n",
       "      <td>2</td>\n",
       "      <td>False</td>\n",
       "      <td>24666</td>\n",
       "    </tr>\n",
       "    <tr>\n",
       "      <th>gate_40</th>\n",
       "      <td>45489</td>\n",
       "      <td>2</td>\n",
       "      <td>False</td>\n",
       "      <td>25370</td>\n",
       "    </tr>\n",
       "  </tbody>\n",
       "</table>\n",
       "</div>"
      ],
      "text/plain": [
       "        retention_1                     \n",
       "              count unique    top   freq\n",
       "version                                 \n",
       "gate_30       44700      2  False  24666\n",
       "gate_40       45489      2  False  25370"
      ]
     },
     "execution_count": 9,
     "metadata": {},
     "output_type": "execute_result"
    }
   ],
   "source": [
    "# Task 3: 1-day retention by AB-group.\n",
    "experiment_data[['version','retention_1']].groupby('version').describe()"
   ]
  },
  {
   "cell_type": "markdown",
   "metadata": {},
   "source": [
    "After one day playing the game, it seems that slightly more people left and didn't play game any more than those retented for both groups from the above results (False > True)."
   ]
  },
  {
   "cell_type": "code",
   "execution_count": 10,
   "metadata": {},
   "outputs": [
    {
     "data": {
      "text/plain": [
       "Ttest_indResult(statistic=1.7840979256519656, pvalue=0.07441111525563184)"
      ]
     },
     "execution_count": 10,
     "metadata": {},
     "output_type": "execute_result"
    }
   ],
   "source": [
    "# Task 4: should we be confident in the difference; zooming in on the difference; the probability of a difference.\n",
    "# Conduct t-test and compute p-value for 1-day retention.\n",
    "stats.ttest_ind(experiment_data[experiment_data.version == 'gate_30'].retention_1,\n",
    "                experiment_data[experiment_data.version == 'gate_40'].retention_1)"
   ]
  },
  {
   "cell_type": "code",
   "execution_count": 1,
   "metadata": {},
   "outputs": [
    {
     "name": "stdout",
     "output_type": "stream",
     "text": [
      "0.9883403344273437\n"
     ]
    }
   ],
   "source": [
    "import statsmodels.api as sm \n",
    "z1, p_value = sm.stats.proportions_ztest([0.448, 0.442], [44700, 45489])\n",
    "print(p_value)"
   ]
  },
  {
   "cell_type": "markdown",
   "metadata": {},
   "source": [
    "The probabiltiy of two groupm from t-test, p-value = 0.0744 is more than 0.05. So there is no significantly different between two groups for one-day player retention. Also p-vlaue from z-test is 0.988 more than 0.05, it confirms the result obtained from t-test.\n",
    "\n",
    "This result also indicates that one day might not be enough time to study the impact on player retention. Time plays a huge role in almost all experiments, and not all behaviors are immediate. Sometimes it takes a while to figure out a new feature.   "
   ]
  },
  {
   "cell_type": "markdown",
   "metadata": {},
   "source": [
    "## After Seven Days\n",
    "\n",
    "One more week goes by and we will turn the experiment off at the end of second week, in other words, total 14 days. Now it's time to analyze what happened and see how players are performing."
   ]
  },
  {
   "cell_type": "code",
   "execution_count": 26,
   "metadata": {},
   "outputs": [
    {
     "name": "stdout",
     "output_type": "stream",
     "text": [
      "False    73408\n",
      "True     16781\n",
      "Name: retention_7, dtype: int64\n"
     ]
    },
    {
     "data": {
      "text/plain": [
       "count     90189\n",
       "unique        2\n",
       "top       False\n",
       "freq      73408\n",
       "Name: retention_7, dtype: object"
      ]
     },
     "execution_count": 26,
     "metadata": {},
     "output_type": "execute_result"
    }
   ],
   "source": [
    "# Task 5: Overall 7-day retention.\n",
    "print(experiment_data['retention_7'].value_counts())\n",
    "experiment_data['retention_7'].describe()"
   ]
  },
  {
   "cell_type": "code",
   "execution_count": 27,
   "metadata": {},
   "outputs": [
    {
     "data": {
      "text/html": [
       "<div>\n",
       "<style scoped>\n",
       "    .dataframe tbody tr th:only-of-type {\n",
       "        vertical-align: middle;\n",
       "    }\n",
       "\n",
       "    .dataframe tbody tr th {\n",
       "        vertical-align: top;\n",
       "    }\n",
       "\n",
       "    .dataframe thead tr th {\n",
       "        text-align: left;\n",
       "    }\n",
       "\n",
       "    .dataframe thead tr:last-of-type th {\n",
       "        text-align: right;\n",
       "    }\n",
       "</style>\n",
       "<table border=\"1\" class=\"dataframe\">\n",
       "  <thead>\n",
       "    <tr>\n",
       "      <th></th>\n",
       "      <th colspan=\"4\" halign=\"left\">retention_7</th>\n",
       "    </tr>\n",
       "    <tr>\n",
       "      <th></th>\n",
       "      <th>count</th>\n",
       "      <th>unique</th>\n",
       "      <th>top</th>\n",
       "      <th>freq</th>\n",
       "    </tr>\n",
       "    <tr>\n",
       "      <th>version</th>\n",
       "      <th></th>\n",
       "      <th></th>\n",
       "      <th></th>\n",
       "      <th></th>\n",
       "    </tr>\n",
       "  </thead>\n",
       "  <tbody>\n",
       "    <tr>\n",
       "      <th>gate_30</th>\n",
       "      <td>44700</td>\n",
       "      <td>2</td>\n",
       "      <td>False</td>\n",
       "      <td>36198</td>\n",
       "    </tr>\n",
       "    <tr>\n",
       "      <th>gate_40</th>\n",
       "      <td>45489</td>\n",
       "      <td>2</td>\n",
       "      <td>False</td>\n",
       "      <td>37210</td>\n",
       "    </tr>\n",
       "  </tbody>\n",
       "</table>\n",
       "</div>"
      ],
      "text/plain": [
       "        retention_7                     \n",
       "              count unique    top   freq\n",
       "version                                 \n",
       "gate_30       44700      2  False  36198\n",
       "gate_40       45489      2  False  37210"
      ]
     },
     "execution_count": 27,
     "metadata": {},
     "output_type": "execute_result"
    }
   ],
   "source": [
    "# Task 6: 7-day retention by AB-group.\n",
    "experiment_data[['version','retention_7']].groupby('version').describe()"
   ]
  },
  {
   "cell_type": "markdown",
   "metadata": {},
   "source": [
    "Again, it can be seen from the above results more people left after 7 days playing.\n",
    "\n",
    "And is the difference between two groups same as one day player retention? let's conduct t-test again to dig deeper."
   ]
  },
  {
   "cell_type": "code",
   "execution_count": null,
   "metadata": {},
   "outputs": [],
   "source": [
    "# Task 7:t-test and p-value for 7-day retention\n",
    "stats.ttest_ind(experiment_data[experiment_data.version == 'gate_30'].retention_7,\n",
    "                experiment_data[experiment_data.version == 'gate_40'].retention_7)"
   ]
  },
  {
   "cell_type": "code",
   "execution_count": 2,
   "metadata": {},
   "outputs": [
    {
     "name": "stdout",
     "output_type": "stream",
     "text": [
      "0.9852774686354742\n"
     ]
    }
   ],
   "source": [
    "import statsmodels.api as sm \n",
    "z1, p_value = sm.stats.proportions_ztest([0.190, 0.182], [44700, 45489])\n",
    "print(p_value)"
   ]
  },
  {
   "cell_type": "markdown",
   "metadata": {},
   "source": [
    "p-value = 0.00155 from t-test is less than 0.05. This experiment got very significant after allowing for more time. In other words, after 7 days, there are more player retention in test group-gate_40 than control group gate_30.\n",
    "\n",
    "However, p-value obtained from z-test is 0.985 still more higher than 0.05. And it indicates no significant difference between two group. Because in this project, variables in retention_1 and retention_7 are the proportion of the total values(False or True). Hence, z-test is more suitable to apply to this project."
   ]
  },
  {
   "cell_type": "markdown",
   "metadata": {},
   "source": [
    "## Conclusion\n",
    "After 7days playing the game, it seems to a significant improvement on player retention for high level gate group from t-test, but no any difference showing in z-test. This confirms that z-test is more reliable for propotion samples.But the number of game rounds played by the player during the first 14 days after install seems no significant difference between two groups. So, it might be worth working with the advertising and engineering teams to see if you could figure out the reasons for it. For example, it can decrease waiting time to progress or make an in-app purchase and so on."
   ]
  },
  {
   "cell_type": "code",
   "execution_count": null,
   "metadata": {},
   "outputs": [],
   "source": []
  }
 ],
 "metadata": {
  "kernelspec": {
   "display_name": "Python 3",
   "language": "python",
   "name": "python3"
  },
  "language_info": {
   "codemirror_mode": {
    "name": "ipython",
    "version": 3
   },
   "file_extension": ".py",
   "mimetype": "text/x-python",
   "name": "python",
   "nbconvert_exporter": "python",
   "pygments_lexer": "ipython3",
   "version": "3.7.3"
  }
 },
 "nbformat": 4,
 "nbformat_minor": 2
}
