{
 "cells": [
  {
   "cell_type": "code",
   "execution_count": 1,
   "metadata": {},
   "outputs": [
    {
     "name": "stdout",
     "output_type": "stream",
     "text": [
      "Success!\n"
     ]
    }
   ],
   "source": [
    "# Importing in each cell because of the kernel restarts.\n",
    "import scrapy\n",
    "from scrapy.crawler import CrawlerProcess\n",
    "\n",
    "class WineSpider(scrapy.Spider):\n",
    "    # Naming the spider is important if you are running more than one spider of this class simultaneously.\n",
    "    name = 'Wine'\n",
    "    \n",
    "    # Scraper for Winemag.com to collect wine reviews\n",
    "    # URL(s) to start with.\n",
    "    start_urls = [\n",
    "        'https://www.winemag.com/?s=&drink_type=wine&page=2'\n",
    "    ]\n",
    "    \n",
    "    # Use XPath to parse the response we get.\n",
    "    def parse(self, response):\n",
    "        \n",
    "        # Iterate over every <article> element on the page.\n",
    "        for review_item in response.xpath('//review-item'):\n",
    "           \n",
    "            # Yield a dictionary with the values we want.\n",
    "            yield {\n",
    "                # This is the code to choose what we want to extract\n",
    "                # You can modify this with other Xpath expressions to extract other information from the site\n",
    "                'Title': review_item.xpath('review-listing row/section[@class=\"columns medium-14 small-12 heading-wrapper\"/div[@class=\"hide-for-small\"]/h3[@class=\"title\"]/text()').extract(),\n",
    "                'Appellation': review_item.xpath('review-listing row/section[@class=\"columns medium-14 small-12 heading-wrapper\"/div[@class=\"hide-for-small\"]/span[@class=\"appellation\"]/text()').extract(),\n",
    "                'Description': review_item.xpath('review-listing row/div[@class=\"excerpt\"/text()').extract(),\n",
    "                'Rating':review_item.xpath('review-listing row/section[@class=\"columns medium-2 small-4 info-wrapper\"/div[@class=\"info\"]/span[@class=\"rating\"]/text()').extract(),\n",
    "                'Price':review_item.xpath('review-listing row/section[@class=\"columns medium-2 small-4 info-wrapper\"/div[@class=\"info\"]/span[@class=\"price\"]/text()').extract(),\n",
    "                  }\n",
    "\n",
    "# Tell the script how to run the crawler by passing in settings.\n",
    "process = CrawlerProcess({\n",
    "    'FEED_FORMAT': 'json',         # Store data in JSON format.\n",
    "    'FEED_URI': 'Secondpage.json',  # Name our storage file.\n",
    "    'LOG_ENABLED': False           # Turn off logging for now.\n",
    "})\n",
    "\n",
    "# Start the crawler with our spider.\n",
    "process.crawl(WineSpider)\n",
    "process.start()\n",
    "print('Success!')\n"
   ]
  },
  {
   "cell_type": "code",
   "execution_count": null,
   "metadata": {},
   "outputs": [],
   "source": [
    "  # Iterate over every <article> element on the page.\n",
    "        for article in response.xpath('//article'):\n",
    "            \n",
    "            # Yield a dictionary with the values we want.\n",
    "            yield {\n",
    "                # This is the code to choose what we want to extract\n",
    "                # You can modify this with other Xpath expressions to extract other information from the site\n",
    "                'name': article.xpath('header/h2/a/@title').extract_first(),\n",
    "                'date': article.xpath('header/section/span[@class=\"entry-date\"]/text()').extract_first(),\n",
    "                'text': article.xpath('section[@class=\"entry-content\"]/p/text()').extract(),\n",
    "                'tags': article.xpath('*/span[@class=\"tag-links\"]/a/text()').extract()\n",
    "            }\n"
   ]
  },
  {
   "cell_type": "code",
   "execution_count": null,
   "metadata": {},
   "outputs": [],
   "source": [
    " 'Title': review_item.xpath('review-listing row/section[@class=\"columns medium-14 small-12 heading-wrapper\"/div[@class=\"hide-for-small\"]/h3[@class=\"title\"]/text()').extract(),"
   ]
  }
 ],
 "metadata": {
  "kernelspec": {
   "display_name": "Python 3",
   "language": "python",
   "name": "python3"
  },
  "language_info": {
   "codemirror_mode": {
    "name": "ipython",
    "version": 3
   },
   "file_extension": ".py",
   "mimetype": "text/x-python",
   "name": "python",
   "nbconvert_exporter": "python",
   "pygments_lexer": "ipython3",
   "version": "3.7.6"
  }
 },
 "nbformat": 4,
 "nbformat_minor": 4
}
