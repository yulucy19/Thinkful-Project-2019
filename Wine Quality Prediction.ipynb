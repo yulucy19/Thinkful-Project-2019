{
 "cells": [
  {
   "cell_type": "markdown",
   "metadata": {},
   "source": [
    "# Wine Quality Prediction\n",
    "\n",
    "## Introduction of wine quality data set \n",
    "\n",
    "This wine quality data set is obtained originally from UCI Machine Learning Repository, and the revised version data set is from Kaggle. This data set is user-contributed but the vast majority is clean.\n",
    "\n",
    "This wine quality data set includes white and red vinho verde wine samples from the north of Portugal. Vinho verde is a unique product from the Minho (northwest) region of Portugal. Medium in alcohol is particularly appreciated due to its freshness (especially in the summer).Due to privacy and logistic issues, only physicochemical (inputs) and sensory (the output) variables are available (e.g. there is no data about grape types, wine brand, wine selling price, etc.). For more details, consult: [Web Link] or the reference [Cortez et al., 2009].\n",
    "\n",
    "The goal of this wine quality data set is to model wine quality based on physicochemical tests.\n",
    "\n",
    "Features or input variables included in this data set are: i) type (white and red wine), ii) fixed acidity, iii) volatile acidity, iv) citric acid, v) residual sugar, vi) chlorides, vii) free sulfur dioxide, viii) total sulfur dioxide, ix) density, x) pH, xi) sulphates, xii) alcohol.\n",
    "\n",
    "Acids (acidity) are major wine properties and contribute greatly to the wine’s taste. They also indicate the process of wine turning into vinegar. Chlorides can be a major contributor to saltiness in wine. Sulfur dioxide is the most common chemical compound used in winemaking. Sulfur serves two main purposes. It prevents the wine from reacting with oxygen which can cause browning and off-odors (oxidation), and it inhibits the growth of bacteria and undesirable wild yeasts in the grape juice and wine. And also sulphates are believed to cause the headache by drinking the wine. Density is generally used as a measure of the conversion of sugar to alcohol. pH is used to specify the acidity and basicity the wine. Of course, alcohol is a very important parameter in the wine because wines are alcoholic beverage. The percentage of alcohol can vary from wine to wine.\n",
    "\n",
    "The output or target variable based on sensory data is quality (score between 0 and 10).\n",
    "\n",
    "## Objectives of this project\n",
    "\n",
    "In this project, the first objective is to build models for evaluating the wine quality based on the physicochemical tests by using supervised machine learning algorithms. The second is to select the best model to predict the wine quality through turning the parameters of the models and comparing the performance of the models.\n",
    "\n",
    "Now let's take a look this wine quality data set."
   ]
  },
  {
   "cell_type": "markdown",
   "metadata": {},
   "source": [
    "## Load data"
   ]
  },
  {
   "cell_type": "code",
   "execution_count": 1,
   "metadata": {},
   "outputs": [],
   "source": [
    "import pandas as pd\n",
    "import numpy as np\n",
    "import scipy\n",
    "from sklearn import linear_model\n",
    "from sklearn.linear_model import LogisticRegression\n",
    "from sklearn.tree import DecisionTreeClassifier\n",
    "from sklearn.svm import SVC\n",
    "from sklearn.ensemble import RandomForestClassifier\n",
    "from sklearn.ensemble import GradientBoostingClassifier\n",
    "from sklearn.model_selection import train_test_split\n",
    "from sklearn.model_selection import cross_val_score\n",
    "from sklearn import ensemble\n",
    "from sklearn.naive_bayes import GaussianNB\n",
    "from sklearn.metrics import classification_report, confusion_matrix\n",
    "import time\n",
    "import warnings\n",
    "import seaborn as sns\n",
    "import matplotlib.pyplot as plt\n",
    "sns.set()"
   ]
  },
  {
   "cell_type": "code",
   "execution_count": 2,
   "metadata": {},
   "outputs": [
    {
     "data": {
      "text/html": [
       "<div>\n",
       "<style scoped>\n",
       "    .dataframe tbody tr th:only-of-type {\n",
       "        vertical-align: middle;\n",
       "    }\n",
       "\n",
       "    .dataframe tbody tr th {\n",
       "        vertical-align: top;\n",
       "    }\n",
       "\n",
       "    .dataframe thead th {\n",
       "        text-align: right;\n",
       "    }\n",
       "</style>\n",
       "<table border=\"1\" class=\"dataframe\">\n",
       "  <thead>\n",
       "    <tr style=\"text-align: right;\">\n",
       "      <th></th>\n",
       "      <th>type</th>\n",
       "      <th>fixed acidity</th>\n",
       "      <th>volatile acidity</th>\n",
       "      <th>citric acid</th>\n",
       "      <th>residual sugar</th>\n",
       "      <th>chlorides</th>\n",
       "      <th>free sulfur dioxide</th>\n",
       "      <th>total sulfur dioxide</th>\n",
       "      <th>density</th>\n",
       "      <th>pH</th>\n",
       "      <th>sulphates</th>\n",
       "      <th>alcohol</th>\n",
       "      <th>quality</th>\n",
       "    </tr>\n",
       "  </thead>\n",
       "  <tbody>\n",
       "    <tr>\n",
       "      <th>0</th>\n",
       "      <td>white</td>\n",
       "      <td>7.0</td>\n",
       "      <td>0.27</td>\n",
       "      <td>0.36</td>\n",
       "      <td>20.7</td>\n",
       "      <td>0.045</td>\n",
       "      <td>45.0</td>\n",
       "      <td>170.0</td>\n",
       "      <td>1.0010</td>\n",
       "      <td>3.00</td>\n",
       "      <td>0.45</td>\n",
       "      <td>8.8</td>\n",
       "      <td>6</td>\n",
       "    </tr>\n",
       "    <tr>\n",
       "      <th>1</th>\n",
       "      <td>white</td>\n",
       "      <td>6.3</td>\n",
       "      <td>0.30</td>\n",
       "      <td>0.34</td>\n",
       "      <td>1.6</td>\n",
       "      <td>0.049</td>\n",
       "      <td>14.0</td>\n",
       "      <td>132.0</td>\n",
       "      <td>0.9940</td>\n",
       "      <td>3.30</td>\n",
       "      <td>0.49</td>\n",
       "      <td>9.5</td>\n",
       "      <td>6</td>\n",
       "    </tr>\n",
       "    <tr>\n",
       "      <th>2</th>\n",
       "      <td>white</td>\n",
       "      <td>8.1</td>\n",
       "      <td>0.28</td>\n",
       "      <td>0.40</td>\n",
       "      <td>6.9</td>\n",
       "      <td>0.050</td>\n",
       "      <td>30.0</td>\n",
       "      <td>97.0</td>\n",
       "      <td>0.9951</td>\n",
       "      <td>3.26</td>\n",
       "      <td>0.44</td>\n",
       "      <td>10.1</td>\n",
       "      <td>6</td>\n",
       "    </tr>\n",
       "    <tr>\n",
       "      <th>3</th>\n",
       "      <td>white</td>\n",
       "      <td>7.2</td>\n",
       "      <td>0.23</td>\n",
       "      <td>0.32</td>\n",
       "      <td>8.5</td>\n",
       "      <td>0.058</td>\n",
       "      <td>47.0</td>\n",
       "      <td>186.0</td>\n",
       "      <td>0.9956</td>\n",
       "      <td>3.19</td>\n",
       "      <td>0.40</td>\n",
       "      <td>9.9</td>\n",
       "      <td>6</td>\n",
       "    </tr>\n",
       "    <tr>\n",
       "      <th>4</th>\n",
       "      <td>white</td>\n",
       "      <td>7.2</td>\n",
       "      <td>0.23</td>\n",
       "      <td>0.32</td>\n",
       "      <td>8.5</td>\n",
       "      <td>0.058</td>\n",
       "      <td>47.0</td>\n",
       "      <td>186.0</td>\n",
       "      <td>0.9956</td>\n",
       "      <td>3.19</td>\n",
       "      <td>0.40</td>\n",
       "      <td>9.9</td>\n",
       "      <td>6</td>\n",
       "    </tr>\n",
       "  </tbody>\n",
       "</table>\n",
       "</div>"
      ],
      "text/plain": [
       "    type  fixed acidity  volatile acidity  citric acid  residual sugar  \\\n",
       "0  white            7.0              0.27         0.36            20.7   \n",
       "1  white            6.3              0.30         0.34             1.6   \n",
       "2  white            8.1              0.28         0.40             6.9   \n",
       "3  white            7.2              0.23         0.32             8.5   \n",
       "4  white            7.2              0.23         0.32             8.5   \n",
       "\n",
       "   chlorides  free sulfur dioxide  total sulfur dioxide  density    pH  \\\n",
       "0      0.045                 45.0                 170.0   1.0010  3.00   \n",
       "1      0.049                 14.0                 132.0   0.9940  3.30   \n",
       "2      0.050                 30.0                  97.0   0.9951  3.26   \n",
       "3      0.058                 47.0                 186.0   0.9956  3.19   \n",
       "4      0.058                 47.0                 186.0   0.9956  3.19   \n",
       "\n",
       "   sulphates  alcohol  quality  \n",
       "0       0.45      8.8        6  \n",
       "1       0.49      9.5        6  \n",
       "2       0.44     10.1        6  \n",
       "3       0.40      9.9        6  \n",
       "4       0.40      9.9        6  "
      ]
     },
     "execution_count": 2,
     "metadata": {},
     "output_type": "execute_result"
    }
   ],
   "source": [
    "wine_raw_df = pd.read_csv(\"winequalityN.csv\")\n",
    "wine_raw_df.head()"
   ]
  },
  {
   "cell_type": "markdown",
   "metadata": {},
   "source": [
    "## Investigate the data, and do any necessary data cleaning"
   ]
  },
  {
   "cell_type": "markdown",
   "metadata": {},
   "source": [
    "### 1. Explore the data basic information"
   ]
  },
  {
   "cell_type": "code",
   "execution_count": 3,
   "metadata": {},
   "outputs": [
    {
     "data": {
      "text/plain": [
       "(6497, 13)"
      ]
     },
     "execution_count": 3,
     "metadata": {},
     "output_type": "execute_result"
    }
   ],
   "source": [
    "wine_raw_df.shape"
   ]
  },
  {
   "cell_type": "markdown",
   "metadata": {},
   "source": [
    "This wine quality data set has 6497 rows and 13 columns."
   ]
  },
  {
   "cell_type": "code",
   "execution_count": 4,
   "metadata": {},
   "outputs": [
    {
     "name": "stdout",
     "output_type": "stream",
     "text": [
      "<class 'pandas.core.frame.DataFrame'>\n",
      "RangeIndex: 6497 entries, 0 to 6496\n",
      "Data columns (total 13 columns):\n",
      " #   Column                Non-Null Count  Dtype  \n",
      "---  ------                --------------  -----  \n",
      " 0   type                  6497 non-null   object \n",
      " 1   fixed acidity         6487 non-null   float64\n",
      " 2   volatile acidity      6489 non-null   float64\n",
      " 3   citric acid           6494 non-null   float64\n",
      " 4   residual sugar        6495 non-null   float64\n",
      " 5   chlorides             6495 non-null   float64\n",
      " 6   free sulfur dioxide   6497 non-null   float64\n",
      " 7   total sulfur dioxide  6497 non-null   float64\n",
      " 8   density               6497 non-null   float64\n",
      " 9   pH                    6488 non-null   float64\n",
      " 10  sulphates             6493 non-null   float64\n",
      " 11  alcohol               6497 non-null   float64\n",
      " 12  quality               6497 non-null   int64  \n",
      "dtypes: float64(11), int64(1), object(1)\n",
      "memory usage: 660.0+ KB\n"
     ]
    }
   ],
   "source": [
    "wine_raw_df.info()"
   ]
  },
  {
   "cell_type": "code",
   "execution_count": 5,
   "metadata": {},
   "outputs": [
    {
     "data": {
      "text/html": [
       "<div>\n",
       "<style scoped>\n",
       "    .dataframe tbody tr th:only-of-type {\n",
       "        vertical-align: middle;\n",
       "    }\n",
       "\n",
       "    .dataframe tbody tr th {\n",
       "        vertical-align: top;\n",
       "    }\n",
       "\n",
       "    .dataframe thead th {\n",
       "        text-align: right;\n",
       "    }\n",
       "</style>\n",
       "<table border=\"1\" class=\"dataframe\">\n",
       "  <thead>\n",
       "    <tr style=\"text-align: right;\">\n",
       "      <th></th>\n",
       "      <th>type</th>\n",
       "      <th>fixed acidity</th>\n",
       "      <th>volatile acidity</th>\n",
       "      <th>citric acid</th>\n",
       "      <th>residual sugar</th>\n",
       "      <th>chlorides</th>\n",
       "      <th>free sulfur dioxide</th>\n",
       "      <th>total sulfur dioxide</th>\n",
       "      <th>density</th>\n",
       "      <th>pH</th>\n",
       "      <th>sulphates</th>\n",
       "      <th>alcohol</th>\n",
       "      <th>quality</th>\n",
       "    </tr>\n",
       "  </thead>\n",
       "  <tbody>\n",
       "    <tr>\n",
       "      <th>count</th>\n",
       "      <td>6497</td>\n",
       "      <td>6487.000000</td>\n",
       "      <td>6489.000000</td>\n",
       "      <td>6494.000000</td>\n",
       "      <td>6495.000000</td>\n",
       "      <td>6495.000000</td>\n",
       "      <td>6497.000000</td>\n",
       "      <td>6497.000000</td>\n",
       "      <td>6497.000000</td>\n",
       "      <td>6488.000000</td>\n",
       "      <td>6493.000000</td>\n",
       "      <td>6497.000000</td>\n",
       "      <td>6497.000000</td>\n",
       "    </tr>\n",
       "    <tr>\n",
       "      <th>unique</th>\n",
       "      <td>2</td>\n",
       "      <td>NaN</td>\n",
       "      <td>NaN</td>\n",
       "      <td>NaN</td>\n",
       "      <td>NaN</td>\n",
       "      <td>NaN</td>\n",
       "      <td>NaN</td>\n",
       "      <td>NaN</td>\n",
       "      <td>NaN</td>\n",
       "      <td>NaN</td>\n",
       "      <td>NaN</td>\n",
       "      <td>NaN</td>\n",
       "      <td>NaN</td>\n",
       "    </tr>\n",
       "    <tr>\n",
       "      <th>top</th>\n",
       "      <td>white</td>\n",
       "      <td>NaN</td>\n",
       "      <td>NaN</td>\n",
       "      <td>NaN</td>\n",
       "      <td>NaN</td>\n",
       "      <td>NaN</td>\n",
       "      <td>NaN</td>\n",
       "      <td>NaN</td>\n",
       "      <td>NaN</td>\n",
       "      <td>NaN</td>\n",
       "      <td>NaN</td>\n",
       "      <td>NaN</td>\n",
       "      <td>NaN</td>\n",
       "    </tr>\n",
       "    <tr>\n",
       "      <th>freq</th>\n",
       "      <td>4898</td>\n",
       "      <td>NaN</td>\n",
       "      <td>NaN</td>\n",
       "      <td>NaN</td>\n",
       "      <td>NaN</td>\n",
       "      <td>NaN</td>\n",
       "      <td>NaN</td>\n",
       "      <td>NaN</td>\n",
       "      <td>NaN</td>\n",
       "      <td>NaN</td>\n",
       "      <td>NaN</td>\n",
       "      <td>NaN</td>\n",
       "      <td>NaN</td>\n",
       "    </tr>\n",
       "    <tr>\n",
       "      <th>mean</th>\n",
       "      <td>NaN</td>\n",
       "      <td>7.216579</td>\n",
       "      <td>0.339691</td>\n",
       "      <td>0.318722</td>\n",
       "      <td>5.444326</td>\n",
       "      <td>0.056042</td>\n",
       "      <td>30.525319</td>\n",
       "      <td>115.744574</td>\n",
       "      <td>0.994697</td>\n",
       "      <td>3.218395</td>\n",
       "      <td>0.531215</td>\n",
       "      <td>10.491801</td>\n",
       "      <td>5.818378</td>\n",
       "    </tr>\n",
       "    <tr>\n",
       "      <th>std</th>\n",
       "      <td>NaN</td>\n",
       "      <td>1.296750</td>\n",
       "      <td>0.164649</td>\n",
       "      <td>0.145265</td>\n",
       "      <td>4.758125</td>\n",
       "      <td>0.035036</td>\n",
       "      <td>17.749400</td>\n",
       "      <td>56.521855</td>\n",
       "      <td>0.002999</td>\n",
       "      <td>0.160748</td>\n",
       "      <td>0.148814</td>\n",
       "      <td>1.192712</td>\n",
       "      <td>0.873255</td>\n",
       "    </tr>\n",
       "    <tr>\n",
       "      <th>min</th>\n",
       "      <td>NaN</td>\n",
       "      <td>3.800000</td>\n",
       "      <td>0.080000</td>\n",
       "      <td>0.000000</td>\n",
       "      <td>0.600000</td>\n",
       "      <td>0.009000</td>\n",
       "      <td>1.000000</td>\n",
       "      <td>6.000000</td>\n",
       "      <td>0.987110</td>\n",
       "      <td>2.720000</td>\n",
       "      <td>0.220000</td>\n",
       "      <td>8.000000</td>\n",
       "      <td>3.000000</td>\n",
       "    </tr>\n",
       "    <tr>\n",
       "      <th>25%</th>\n",
       "      <td>NaN</td>\n",
       "      <td>6.400000</td>\n",
       "      <td>0.230000</td>\n",
       "      <td>0.250000</td>\n",
       "      <td>1.800000</td>\n",
       "      <td>0.038000</td>\n",
       "      <td>17.000000</td>\n",
       "      <td>77.000000</td>\n",
       "      <td>0.992340</td>\n",
       "      <td>3.110000</td>\n",
       "      <td>0.430000</td>\n",
       "      <td>9.500000</td>\n",
       "      <td>5.000000</td>\n",
       "    </tr>\n",
       "    <tr>\n",
       "      <th>50%</th>\n",
       "      <td>NaN</td>\n",
       "      <td>7.000000</td>\n",
       "      <td>0.290000</td>\n",
       "      <td>0.310000</td>\n",
       "      <td>3.000000</td>\n",
       "      <td>0.047000</td>\n",
       "      <td>29.000000</td>\n",
       "      <td>118.000000</td>\n",
       "      <td>0.994890</td>\n",
       "      <td>3.210000</td>\n",
       "      <td>0.510000</td>\n",
       "      <td>10.300000</td>\n",
       "      <td>6.000000</td>\n",
       "    </tr>\n",
       "    <tr>\n",
       "      <th>75%</th>\n",
       "      <td>NaN</td>\n",
       "      <td>7.700000</td>\n",
       "      <td>0.400000</td>\n",
       "      <td>0.390000</td>\n",
       "      <td>8.100000</td>\n",
       "      <td>0.065000</td>\n",
       "      <td>41.000000</td>\n",
       "      <td>156.000000</td>\n",
       "      <td>0.996990</td>\n",
       "      <td>3.320000</td>\n",
       "      <td>0.600000</td>\n",
       "      <td>11.300000</td>\n",
       "      <td>6.000000</td>\n",
       "    </tr>\n",
       "    <tr>\n",
       "      <th>max</th>\n",
       "      <td>NaN</td>\n",
       "      <td>15.900000</td>\n",
       "      <td>1.580000</td>\n",
       "      <td>1.660000</td>\n",
       "      <td>65.800000</td>\n",
       "      <td>0.611000</td>\n",
       "      <td>289.000000</td>\n",
       "      <td>440.000000</td>\n",
       "      <td>1.038980</td>\n",
       "      <td>4.010000</td>\n",
       "      <td>2.000000</td>\n",
       "      <td>14.900000</td>\n",
       "      <td>9.000000</td>\n",
       "    </tr>\n",
       "  </tbody>\n",
       "</table>\n",
       "</div>"
      ],
      "text/plain": [
       "         type  fixed acidity  volatile acidity  citric acid  residual sugar  \\\n",
       "count    6497    6487.000000       6489.000000  6494.000000     6495.000000   \n",
       "unique      2            NaN               NaN          NaN             NaN   \n",
       "top     white            NaN               NaN          NaN             NaN   \n",
       "freq     4898            NaN               NaN          NaN             NaN   \n",
       "mean      NaN       7.216579          0.339691     0.318722        5.444326   \n",
       "std       NaN       1.296750          0.164649     0.145265        4.758125   \n",
       "min       NaN       3.800000          0.080000     0.000000        0.600000   \n",
       "25%       NaN       6.400000          0.230000     0.250000        1.800000   \n",
       "50%       NaN       7.000000          0.290000     0.310000        3.000000   \n",
       "75%       NaN       7.700000          0.400000     0.390000        8.100000   \n",
       "max       NaN      15.900000          1.580000     1.660000       65.800000   \n",
       "\n",
       "          chlorides  free sulfur dioxide  total sulfur dioxide      density  \\\n",
       "count   6495.000000          6497.000000           6497.000000  6497.000000   \n",
       "unique          NaN                  NaN                   NaN          NaN   \n",
       "top             NaN                  NaN                   NaN          NaN   \n",
       "freq            NaN                  NaN                   NaN          NaN   \n",
       "mean       0.056042            30.525319            115.744574     0.994697   \n",
       "std        0.035036            17.749400             56.521855     0.002999   \n",
       "min        0.009000             1.000000              6.000000     0.987110   \n",
       "25%        0.038000            17.000000             77.000000     0.992340   \n",
       "50%        0.047000            29.000000            118.000000     0.994890   \n",
       "75%        0.065000            41.000000            156.000000     0.996990   \n",
       "max        0.611000           289.000000            440.000000     1.038980   \n",
       "\n",
       "                 pH    sulphates      alcohol      quality  \n",
       "count   6488.000000  6493.000000  6497.000000  6497.000000  \n",
       "unique          NaN          NaN          NaN          NaN  \n",
       "top             NaN          NaN          NaN          NaN  \n",
       "freq            NaN          NaN          NaN          NaN  \n",
       "mean       3.218395     0.531215    10.491801     5.818378  \n",
       "std        0.160748     0.148814     1.192712     0.873255  \n",
       "min        2.720000     0.220000     8.000000     3.000000  \n",
       "25%        3.110000     0.430000     9.500000     5.000000  \n",
       "50%        3.210000     0.510000    10.300000     6.000000  \n",
       "75%        3.320000     0.600000    11.300000     6.000000  \n",
       "max        4.010000     2.000000    14.900000     9.000000  "
      ]
     },
     "execution_count": 5,
     "metadata": {},
     "output_type": "execute_result"
    }
   ],
   "source": [
    "wine_raw_df.describe(include=\"all\")"
   ]
  },
  {
   "cell_type": "code",
   "execution_count": 6,
   "metadata": {},
   "outputs": [
    {
     "data": {
      "text/html": [
       "<div>\n",
       "<style scoped>\n",
       "    .dataframe tbody tr th:only-of-type {\n",
       "        vertical-align: middle;\n",
       "    }\n",
       "\n",
       "    .dataframe tbody tr th {\n",
       "        vertical-align: top;\n",
       "    }\n",
       "\n",
       "    .dataframe thead th {\n",
       "        text-align: right;\n",
       "    }\n",
       "</style>\n",
       "<table border=\"1\" class=\"dataframe\">\n",
       "  <thead>\n",
       "    <tr style=\"text-align: right;\">\n",
       "      <th></th>\n",
       "      <th>fixed acidity</th>\n",
       "      <th>volatile acidity</th>\n",
       "      <th>citric acid</th>\n",
       "      <th>residual sugar</th>\n",
       "      <th>chlorides</th>\n",
       "      <th>free sulfur dioxide</th>\n",
       "      <th>total sulfur dioxide</th>\n",
       "      <th>density</th>\n",
       "      <th>pH</th>\n",
       "      <th>sulphates</th>\n",
       "      <th>alcohol</th>\n",
       "      <th>quality</th>\n",
       "    </tr>\n",
       "  </thead>\n",
       "  <tbody>\n",
       "    <tr>\n",
       "      <th>count</th>\n",
       "      <td>6487.000000</td>\n",
       "      <td>6489.000000</td>\n",
       "      <td>6494.000000</td>\n",
       "      <td>6495.000000</td>\n",
       "      <td>6495.000000</td>\n",
       "      <td>6497.000000</td>\n",
       "      <td>6497.000000</td>\n",
       "      <td>6497.000000</td>\n",
       "      <td>6488.000000</td>\n",
       "      <td>6493.000000</td>\n",
       "      <td>6497.000000</td>\n",
       "      <td>6497.000000</td>\n",
       "    </tr>\n",
       "    <tr>\n",
       "      <th>mean</th>\n",
       "      <td>7.216579</td>\n",
       "      <td>0.339691</td>\n",
       "      <td>0.318722</td>\n",
       "      <td>5.444326</td>\n",
       "      <td>0.056042</td>\n",
       "      <td>30.525319</td>\n",
       "      <td>115.744574</td>\n",
       "      <td>0.994697</td>\n",
       "      <td>3.218395</td>\n",
       "      <td>0.531215</td>\n",
       "      <td>10.491801</td>\n",
       "      <td>5.818378</td>\n",
       "    </tr>\n",
       "    <tr>\n",
       "      <th>std</th>\n",
       "      <td>1.296750</td>\n",
       "      <td>0.164649</td>\n",
       "      <td>0.145265</td>\n",
       "      <td>4.758125</td>\n",
       "      <td>0.035036</td>\n",
       "      <td>17.749400</td>\n",
       "      <td>56.521855</td>\n",
       "      <td>0.002999</td>\n",
       "      <td>0.160748</td>\n",
       "      <td>0.148814</td>\n",
       "      <td>1.192712</td>\n",
       "      <td>0.873255</td>\n",
       "    </tr>\n",
       "    <tr>\n",
       "      <th>min</th>\n",
       "      <td>3.800000</td>\n",
       "      <td>0.080000</td>\n",
       "      <td>0.000000</td>\n",
       "      <td>0.600000</td>\n",
       "      <td>0.009000</td>\n",
       "      <td>1.000000</td>\n",
       "      <td>6.000000</td>\n",
       "      <td>0.987110</td>\n",
       "      <td>2.720000</td>\n",
       "      <td>0.220000</td>\n",
       "      <td>8.000000</td>\n",
       "      <td>3.000000</td>\n",
       "    </tr>\n",
       "    <tr>\n",
       "      <th>25%</th>\n",
       "      <td>6.400000</td>\n",
       "      <td>0.230000</td>\n",
       "      <td>0.250000</td>\n",
       "      <td>1.800000</td>\n",
       "      <td>0.038000</td>\n",
       "      <td>17.000000</td>\n",
       "      <td>77.000000</td>\n",
       "      <td>0.992340</td>\n",
       "      <td>3.110000</td>\n",
       "      <td>0.430000</td>\n",
       "      <td>9.500000</td>\n",
       "      <td>5.000000</td>\n",
       "    </tr>\n",
       "    <tr>\n",
       "      <th>50%</th>\n",
       "      <td>7.000000</td>\n",
       "      <td>0.290000</td>\n",
       "      <td>0.310000</td>\n",
       "      <td>3.000000</td>\n",
       "      <td>0.047000</td>\n",
       "      <td>29.000000</td>\n",
       "      <td>118.000000</td>\n",
       "      <td>0.994890</td>\n",
       "      <td>3.210000</td>\n",
       "      <td>0.510000</td>\n",
       "      <td>10.300000</td>\n",
       "      <td>6.000000</td>\n",
       "    </tr>\n",
       "    <tr>\n",
       "      <th>75%</th>\n",
       "      <td>7.700000</td>\n",
       "      <td>0.400000</td>\n",
       "      <td>0.390000</td>\n",
       "      <td>8.100000</td>\n",
       "      <td>0.065000</td>\n",
       "      <td>41.000000</td>\n",
       "      <td>156.000000</td>\n",
       "      <td>0.996990</td>\n",
       "      <td>3.320000</td>\n",
       "      <td>0.600000</td>\n",
       "      <td>11.300000</td>\n",
       "      <td>6.000000</td>\n",
       "    </tr>\n",
       "    <tr>\n",
       "      <th>max</th>\n",
       "      <td>15.900000</td>\n",
       "      <td>1.580000</td>\n",
       "      <td>1.660000</td>\n",
       "      <td>65.800000</td>\n",
       "      <td>0.611000</td>\n",
       "      <td>289.000000</td>\n",
       "      <td>440.000000</td>\n",
       "      <td>1.038980</td>\n",
       "      <td>4.010000</td>\n",
       "      <td>2.000000</td>\n",
       "      <td>14.900000</td>\n",
       "      <td>9.000000</td>\n",
       "    </tr>\n",
       "  </tbody>\n",
       "</table>\n",
       "</div>"
      ],
      "text/plain": [
       "       fixed acidity  volatile acidity  citric acid  residual sugar  \\\n",
       "count    6487.000000       6489.000000  6494.000000     6495.000000   \n",
       "mean        7.216579          0.339691     0.318722        5.444326   \n",
       "std         1.296750          0.164649     0.145265        4.758125   \n",
       "min         3.800000          0.080000     0.000000        0.600000   \n",
       "25%         6.400000          0.230000     0.250000        1.800000   \n",
       "50%         7.000000          0.290000     0.310000        3.000000   \n",
       "75%         7.700000          0.400000     0.390000        8.100000   \n",
       "max        15.900000          1.580000     1.660000       65.800000   \n",
       "\n",
       "         chlorides  free sulfur dioxide  total sulfur dioxide      density  \\\n",
       "count  6495.000000          6497.000000           6497.000000  6497.000000   \n",
       "mean      0.056042            30.525319            115.744574     0.994697   \n",
       "std       0.035036            17.749400             56.521855     0.002999   \n",
       "min       0.009000             1.000000              6.000000     0.987110   \n",
       "25%       0.038000            17.000000             77.000000     0.992340   \n",
       "50%       0.047000            29.000000            118.000000     0.994890   \n",
       "75%       0.065000            41.000000            156.000000     0.996990   \n",
       "max       0.611000           289.000000            440.000000     1.038980   \n",
       "\n",
       "                pH    sulphates      alcohol      quality  \n",
       "count  6488.000000  6493.000000  6497.000000  6497.000000  \n",
       "mean      3.218395     0.531215    10.491801     5.818378  \n",
       "std       0.160748     0.148814     1.192712     0.873255  \n",
       "min       2.720000     0.220000     8.000000     3.000000  \n",
       "25%       3.110000     0.430000     9.500000     5.000000  \n",
       "50%       3.210000     0.510000    10.300000     6.000000  \n",
       "75%       3.320000     0.600000    11.300000     6.000000  \n",
       "max       4.010000     2.000000    14.900000     9.000000  "
      ]
     },
     "execution_count": 6,
     "metadata": {},
     "output_type": "execute_result"
    }
   ],
   "source": [
    "wine_raw_df.describe()"
   ]
  },
  {
   "cell_type": "code",
   "execution_count": 7,
   "metadata": {},
   "outputs": [
    {
     "data": {
      "text/plain": [
       "array(['type', 'fixed acidity', 'volatile acidity', 'citric acid',\n",
       "       'residual sugar', 'chlorides', 'free sulfur dioxide',\n",
       "       'total sulfur dioxide', 'density', 'pH', 'sulphates', 'alcohol',\n",
       "       'quality'], dtype=object)"
      ]
     },
     "execution_count": 7,
     "metadata": {},
     "output_type": "execute_result"
    }
   ],
   "source": [
    "wine_raw_df.columns.values"
   ]
  },
  {
   "cell_type": "code",
   "execution_count": 8,
   "metadata": {
    "scrolled": true
   },
   "outputs": [
    {
     "data": {
      "text/plain": [
       "<matplotlib.axes._subplots.AxesSubplot at 0x220e6cd4320>"
      ]
     },
     "execution_count": 8,
     "metadata": {},
     "output_type": "execute_result"
    },
    {
     "data": {
      "image/png": "[encoded data removed]",
      "text/plain": [
       "<Figure size 432x288 with 1 Axes>"
      ]
     },
     "metadata": {},
     "output_type": "display_data"
    }
   ],
   "source": [
    "sns.countplot(x='quality', data=wine_raw_df)"
   ]
  },
  {
   "cell_type": "markdown",
   "metadata": {},
   "source": [
    "From the above data basic information, it can be seen that this data set is pretty clean and not very big size. Except type column, all the other 11 columns have continuous variables.\n",
    "The target column-quality has a categorical variable. Quality 6 has the most observations, next most is quality 5."
   ]
  },
  {
   "cell_type": "markdown",
   "metadata": {},
   "source": [
    "### 2. Explore missing values"
   ]
  },
  {
   "cell_type": "code",
   "execution_count": 9,
   "metadata": {},
   "outputs": [
    {
     "data": {
      "text/plain": [
       "type                     0\n",
       "fixed acidity           10\n",
       "volatile acidity         8\n",
       "citric acid              3\n",
       "residual sugar           2\n",
       "chlorides                2\n",
       "free sulfur dioxide      0\n",
       "total sulfur dioxide     0\n",
       "density                  0\n",
       "pH                       9\n",
       "sulphates                4\n",
       "alcohol                  0\n",
       "quality                  0\n",
       "dtype: int64"
      ]
     },
     "execution_count": 9,
     "metadata": {},
     "output_type": "execute_result"
    }
   ],
   "source": [
    "# Find the missing values.\n",
    "wine_raw_df.isnull().sum()"
   ]
  },
  {
   "cell_type": "code",
   "execution_count": 10,
   "metadata": {
    "scrolled": true
   },
   "outputs": [
    {
     "data": {
      "text/plain": [
       "type                    0.000000\n",
       "fixed acidity           0.153917\n",
       "volatile acidity        0.123134\n",
       "citric acid             0.046175\n",
       "residual sugar          0.030783\n",
       "chlorides               0.030783\n",
       "free sulfur dioxide     0.000000\n",
       "total sulfur dioxide    0.000000\n",
       "density                 0.000000\n",
       "pH                      0.138525\n",
       "sulphates               0.061567\n",
       "alcohol                 0.000000\n",
       "quality                 0.000000\n",
       "dtype: float64"
      ]
     },
     "execution_count": 10,
     "metadata": {},
     "output_type": "execute_result"
    }
   ],
   "source": [
    "# Calculate the missing values percentage.\n",
    "null_percentage = wine_raw_df.isnull().sum()/wine_raw_df.shape[0]*100\n",
    "null_percentage"
   ]
  },
  {
   "cell_type": "code",
   "execution_count": 11,
   "metadata": {},
   "outputs": [
    {
     "data": {
      "text/plain": [
       "(6463, 13)"
      ]
     },
     "execution_count": 11,
     "metadata": {},
     "output_type": "execute_result"
    }
   ],
   "source": [
    "# Drop missing values.\n",
    "wine_df = wine_raw_df.dropna()\n",
    "wine_df.shape"
   ]
  },
  {
   "cell_type": "code",
   "execution_count": 12,
   "metadata": {},
   "outputs": [
    {
     "data": {
      "text/plain": [
       "0.5233184546713868"
      ]
     },
     "execution_count": 12,
     "metadata": {},
     "output_type": "execute_result"
    }
   ],
   "source": [
    "# Missing values drop percentage.\n",
    "dropna_percentage = (wine_raw_df.shape[0]-wine_df.shape[0])/wine_raw_df.shape[0]*100\n",
    "dropna_percentage "
   ]
  },
  {
   "cell_type": "markdown",
   "metadata": {},
   "source": [
    "### 3. Detect outliers"
   ]
  },
  {
   "cell_type": "code",
   "execution_count": 13,
   "metadata": {},
   "outputs": [
    {
     "data": {
      "text/plain": [
       "<matplotlib.axes._subplots.AxesSubplot at 0x220e7478be0>"
      ]
     },
     "execution_count": 13,
     "metadata": {},
     "output_type": "execute_result"
    },
    {
     "data": {
      "image/png": "[encoded data removed]",
      "text/plain": [
       "<Figure size 432x288 with 1 Axes>"
      ]
     },
     "metadata": {},
     "output_type": "display_data"
    }
   ],
   "source": [
    "# From statistical description table, residual sugar and free sulfur dioxide have outliers.\n",
    "# Use Seaborn histogram to detect outliers for these two columns.\n",
    "# Find the outliers for residual sugar column.\n",
    "sns.distplot(wine_df['residual sugar'])"
   ]
  },
  {
   "cell_type": "code",
   "execution_count": 14,
   "metadata": {},
   "outputs": [
    {
     "data": {
      "text/plain": [
       "<matplotlib.axes._subplots.AxesSubplot at 0x220e75984a8>"
      ]
     },
     "execution_count": 14,
     "metadata": {},
     "output_type": "execute_result"
    },
    {
     "data": {
      "image/png": "[encoded data removed]",
      "text/plain": [
       "<Figure size 432x288 with 1 Axes>"
      ]
     },
     "metadata": {},
     "output_type": "display_data"
    }
   ],
   "source": [
    "# Find the outliers for free sulfur dioxide column.\n",
    "sns.distplot(wine_df['free sulfur dioxide'])"
   ]
  },
  {
   "cell_type": "markdown",
   "metadata": {},
   "source": [
    "It seems that there are obvious outliers in both residual sugar and free sulfur dioxide columns. Hence, let's first clean outliers for these two columns."
   ]
  },
  {
   "cell_type": "code",
   "execution_count": 15,
   "metadata": {},
   "outputs": [
    {
     "data": {
      "text/plain": [
       "<matplotlib.axes._subplots.AxesSubplot at 0x220e7677cc0>"
      ]
     },
     "execution_count": 15,
     "metadata": {},
     "output_type": "execute_result"
    },
    {
     "data": {
      "image/png": "[encoded data removed]",
      "text/plain": [
       "<Figure size 432x288 with 1 Axes>"
      ]
     },
     "metadata": {},
     "output_type": "display_data"
    }
   ],
   "source": [
    "q= wine_df['free sulfur dioxide'].quantile(0.995)\n",
    "wine_df_1 = wine_df[wine_df['free sulfur dioxide']<q]\n",
    "sns.distplot(wine_df_1['free sulfur dioxide'])"
   ]
  },
  {
   "cell_type": "code",
   "execution_count": 16,
   "metadata": {},
   "outputs": [
    {
     "data": {
      "text/plain": [
       "6429"
      ]
     },
     "execution_count": 16,
     "metadata": {},
     "output_type": "execute_result"
    }
   ],
   "source": [
    "wine_df_1['free sulfur dioxide'].count()"
   ]
  },
  {
   "cell_type": "code",
   "execution_count": 17,
   "metadata": {},
   "outputs": [
    {
     "data": {
      "text/plain": [
       "<matplotlib.axes._subplots.AxesSubplot at 0x220e76f17b8>"
      ]
     },
     "execution_count": 17,
     "metadata": {},
     "output_type": "execute_result"
    },
    {
     "data": {
      "image/png": "[encoded data removed]",
      "text/plain": [
       "<Figure size 432x288 with 1 Axes>"
      ]
     },
     "metadata": {},
     "output_type": "display_data"
    }
   ],
   "source": [
    "q= wine_df['residual sugar'].quantile(0.995)\n",
    "wine_df_2 = wine_df_1[wine_df_1['residual sugar']<q]\n",
    "sns.distplot(wine_df_2['residual sugar'])"
   ]
  },
  {
   "cell_type": "code",
   "execution_count": 18,
   "metadata": {},
   "outputs": [
    {
     "data": {
      "text/plain": [
       "6395"
      ]
     },
     "execution_count": 18,
     "metadata": {},
     "output_type": "execute_result"
    }
   ],
   "source": [
    "wine_df_2['residual sugar'].count()"
   ]
  },
  {
   "cell_type": "code",
   "execution_count": 19,
   "metadata": {},
   "outputs": [
    {
     "data": {
      "text/plain": [
       "(6395, 13)"
      ]
     },
     "execution_count": 19,
     "metadata": {},
     "output_type": "execute_result"
    }
   ],
   "source": [
    "wine_cleaned_df = wine_df_2\n",
    "wine_cleaned_df.shape"
   ]
  },
  {
   "cell_type": "code",
   "execution_count": 20,
   "metadata": {
    "scrolled": true
   },
   "outputs": [
    {
     "data": {
      "text/plain": [
       "1.569955364014164"
      ]
     },
     "execution_count": 20,
     "metadata": {},
     "output_type": "execute_result"
    }
   ],
   "source": [
    "removed_datapoint_percentage = (1- wine_cleaned_df.shape[0]/wine_raw_df.shape[0])*100\n",
    "removed_datapoint_percentage"
   ]
  },
  {
   "cell_type": "markdown",
   "metadata": {},
   "source": [
    "After dropping the missing values and outliers, the observations decreased from original 6497 to 6395 and about 1.57%. So, from now dropping the missing values and outliers might not make any meaningful changes in the following analysis. "
   ]
  },
  {
   "cell_type": "markdown",
   "metadata": {},
   "source": [
    "## Explore data and select features"
   ]
  },
  {
   "cell_type": "code",
   "execution_count": 21,
   "metadata": {},
   "outputs": [
    {
     "data": {
      "text/html": [
       "<div>\n",
       "<style scoped>\n",
       "    .dataframe tbody tr th:only-of-type {\n",
       "        vertical-align: middle;\n",
       "    }\n",
       "\n",
       "    .dataframe tbody tr th {\n",
       "        vertical-align: top;\n",
       "    }\n",
       "\n",
       "    .dataframe thead th {\n",
       "        text-align: right;\n",
       "    }\n",
       "</style>\n",
       "<table border=\"1\" class=\"dataframe\">\n",
       "  <thead>\n",
       "    <tr style=\"text-align: right;\">\n",
       "      <th></th>\n",
       "      <th>fixed acidity</th>\n",
       "      <th>volatile acidity</th>\n",
       "      <th>citric acid</th>\n",
       "      <th>residual sugar</th>\n",
       "      <th>chlorides</th>\n",
       "      <th>free sulfur dioxide</th>\n",
       "      <th>total sulfur dioxide</th>\n",
       "      <th>density</th>\n",
       "      <th>pH</th>\n",
       "      <th>sulphates</th>\n",
       "      <th>alcohol</th>\n",
       "      <th>quality</th>\n",
       "    </tr>\n",
       "  </thead>\n",
       "  <tbody>\n",
       "    <tr>\n",
       "      <th>fixed acidity</th>\n",
       "      <td>1.000000</td>\n",
       "      <td>0.219648</td>\n",
       "      <td>0.324739</td>\n",
       "      <td>-0.117787</td>\n",
       "      <td>0.299520</td>\n",
       "      <td>-0.291946</td>\n",
       "      <td>-0.332164</td>\n",
       "      <td>0.473977</td>\n",
       "      <td>-0.252206</td>\n",
       "      <td>0.303727</td>\n",
       "      <td>-0.098110</td>\n",
       "      <td>-0.076043</td>\n",
       "    </tr>\n",
       "    <tr>\n",
       "      <th>volatile acidity</th>\n",
       "      <td>0.219648</td>\n",
       "      <td>1.000000</td>\n",
       "      <td>-0.384712</td>\n",
       "      <td>-0.210894</td>\n",
       "      <td>0.378704</td>\n",
       "      <td>-0.364403</td>\n",
       "      <td>-0.416129</td>\n",
       "      <td>0.274125</td>\n",
       "      <td>0.261254</td>\n",
       "      <td>0.226979</td>\n",
       "      <td>-0.043004</td>\n",
       "      <td>-0.269887</td>\n",
       "    </tr>\n",
       "    <tr>\n",
       "      <th>citric acid</th>\n",
       "      <td>0.324739</td>\n",
       "      <td>-0.384712</td>\n",
       "      <td>1.000000</td>\n",
       "      <td>0.135567</td>\n",
       "      <td>0.040190</td>\n",
       "      <td>0.150454</td>\n",
       "      <td>0.198350</td>\n",
       "      <td>0.091207</td>\n",
       "      <td>-0.332761</td>\n",
       "      <td>0.060030</td>\n",
       "      <td>-0.013144</td>\n",
       "      <td>0.085007</td>\n",
       "    </tr>\n",
       "    <tr>\n",
       "      <th>residual sugar</th>\n",
       "      <td>-0.117787</td>\n",
       "      <td>-0.210894</td>\n",
       "      <td>0.135567</td>\n",
       "      <td>1.000000</td>\n",
       "      <td>-0.133380</td>\n",
       "      <td>0.441816</td>\n",
       "      <td>0.507985</td>\n",
       "      <td>0.522994</td>\n",
       "      <td>-0.266169</td>\n",
       "      <td>-0.183342</td>\n",
       "      <td>-0.367185</td>\n",
       "      <td>-0.032778</td>\n",
       "    </tr>\n",
       "    <tr>\n",
       "      <th>chlorides</th>\n",
       "      <td>0.299520</td>\n",
       "      <td>0.378704</td>\n",
       "      <td>0.040190</td>\n",
       "      <td>-0.133380</td>\n",
       "      <td>1.000000</td>\n",
       "      <td>-0.201433</td>\n",
       "      <td>-0.280407</td>\n",
       "      <td>0.375136</td>\n",
       "      <td>0.044047</td>\n",
       "      <td>0.397916</td>\n",
       "      <td>-0.260111</td>\n",
       "      <td>-0.202481</td>\n",
       "    </tr>\n",
       "    <tr>\n",
       "      <th>free sulfur dioxide</th>\n",
       "      <td>-0.291946</td>\n",
       "      <td>-0.364403</td>\n",
       "      <td>0.150454</td>\n",
       "      <td>0.441816</td>\n",
       "      <td>-0.201433</td>\n",
       "      <td>1.000000</td>\n",
       "      <td>0.727979</td>\n",
       "      <td>0.028492</td>\n",
       "      <td>-0.154337</td>\n",
       "      <td>-0.200014</td>\n",
       "      <td>-0.183779</td>\n",
       "      <td>0.077868</td>\n",
       "    </tr>\n",
       "    <tr>\n",
       "      <th>total sulfur dioxide</th>\n",
       "      <td>-0.332164</td>\n",
       "      <td>-0.416129</td>\n",
       "      <td>0.198350</td>\n",
       "      <td>0.507985</td>\n",
       "      <td>-0.280407</td>\n",
       "      <td>0.727979</td>\n",
       "      <td>1.000000</td>\n",
       "      <td>0.021876</td>\n",
       "      <td>-0.238555</td>\n",
       "      <td>-0.277615</td>\n",
       "      <td>-0.262143</td>\n",
       "      <td>-0.032997</td>\n",
       "    </tr>\n",
       "    <tr>\n",
       "      <th>density</th>\n",
       "      <td>0.473977</td>\n",
       "      <td>0.274125</td>\n",
       "      <td>0.091207</td>\n",
       "      <td>0.522994</td>\n",
       "      <td>0.375136</td>\n",
       "      <td>0.028492</td>\n",
       "      <td>0.021876</td>\n",
       "      <td>1.000000</td>\n",
       "      <td>0.020076</td>\n",
       "      <td>0.275902</td>\n",
       "      <td>-0.704379</td>\n",
       "      <td>-0.313020</td>\n",
       "    </tr>\n",
       "    <tr>\n",
       "      <th>pH</th>\n",
       "      <td>-0.252206</td>\n",
       "      <td>0.261254</td>\n",
       "      <td>-0.332761</td>\n",
       "      <td>-0.266169</td>\n",
       "      <td>0.044047</td>\n",
       "      <td>-0.154337</td>\n",
       "      <td>-0.238555</td>\n",
       "      <td>0.020076</td>\n",
       "      <td>1.000000</td>\n",
       "      <td>0.187248</td>\n",
       "      <td>0.117032</td>\n",
       "      <td>0.017294</td>\n",
       "    </tr>\n",
       "    <tr>\n",
       "      <th>sulphates</th>\n",
       "      <td>0.303727</td>\n",
       "      <td>0.226979</td>\n",
       "      <td>0.060030</td>\n",
       "      <td>-0.183342</td>\n",
       "      <td>0.397916</td>\n",
       "      <td>-0.200014</td>\n",
       "      <td>-0.277615</td>\n",
       "      <td>0.275902</td>\n",
       "      <td>0.187248</td>\n",
       "      <td>1.000000</td>\n",
       "      <td>-0.008442</td>\n",
       "      <td>0.034776</td>\n",
       "    </tr>\n",
       "    <tr>\n",
       "      <th>alcohol</th>\n",
       "      <td>-0.098110</td>\n",
       "      <td>-0.043004</td>\n",
       "      <td>-0.013144</td>\n",
       "      <td>-0.367185</td>\n",
       "      <td>-0.260111</td>\n",
       "      <td>-0.183779</td>\n",
       "      <td>-0.262143</td>\n",
       "      <td>-0.704379</td>\n",
       "      <td>0.117032</td>\n",
       "      <td>-0.008442</td>\n",
       "      <td>1.000000</td>\n",
       "      <td>0.445432</td>\n",
       "    </tr>\n",
       "    <tr>\n",
       "      <th>quality</th>\n",
       "      <td>-0.076043</td>\n",
       "      <td>-0.269887</td>\n",
       "      <td>0.085007</td>\n",
       "      <td>-0.032778</td>\n",
       "      <td>-0.202481</td>\n",
       "      <td>0.077868</td>\n",
       "      <td>-0.032997</td>\n",
       "      <td>-0.313020</td>\n",
       "      <td>0.017294</td>\n",
       "      <td>0.034776</td>\n",
       "      <td>0.445432</td>\n",
       "      <td>1.000000</td>\n",
       "    </tr>\n",
       "  </tbody>\n",
       "</table>\n",
       "</div>"
      ],
      "text/plain": [
       "                      fixed acidity  volatile acidity  citric acid  \\\n",
       "fixed acidity              1.000000          0.219648     0.324739   \n",
       "volatile acidity           0.219648          1.000000    -0.384712   \n",
       "citric acid                0.324739         -0.384712     1.000000   \n",
       "residual sugar            -0.117787         -0.210894     0.135567   \n",
       "chlorides                  0.299520          0.378704     0.040190   \n",
       "free sulfur dioxide       -0.291946         -0.364403     0.150454   \n",
       "total sulfur dioxide      -0.332164         -0.416129     0.198350   \n",
       "density                    0.473977          0.274125     0.091207   \n",
       "pH                        -0.252206          0.261254    -0.332761   \n",
       "sulphates                  0.303727          0.226979     0.060030   \n",
       "alcohol                   -0.098110         -0.043004    -0.013144   \n",
       "quality                   -0.076043         -0.269887     0.085007   \n",
       "\n",
       "                      residual sugar  chlorides  free sulfur dioxide  \\\n",
       "fixed acidity              -0.117787   0.299520            -0.291946   \n",
       "volatile acidity           -0.210894   0.378704            -0.364403   \n",
       "citric acid                 0.135567   0.040190             0.150454   \n",
       "residual sugar              1.000000  -0.133380             0.441816   \n",
       "chlorides                  -0.133380   1.000000            -0.201433   \n",
       "free sulfur dioxide         0.441816  -0.201433             1.000000   \n",
       "total sulfur dioxide        0.507985  -0.280407             0.727979   \n",
       "density                     0.522994   0.375136             0.028492   \n",
       "pH                         -0.266169   0.044047            -0.154337   \n",
       "sulphates                  -0.183342   0.397916            -0.200014   \n",
       "alcohol                    -0.367185  -0.260111            -0.183779   \n",
       "quality                    -0.032778  -0.202481             0.077868   \n",
       "\n",
       "                      total sulfur dioxide   density        pH  sulphates  \\\n",
       "fixed acidity                    -0.332164  0.473977 -0.252206   0.303727   \n",
       "volatile acidity                 -0.416129  0.274125  0.261254   0.226979   \n",
       "citric acid                       0.198350  0.091207 -0.332761   0.060030   \n",
       "residual sugar                    0.507985  0.522994 -0.266169  -0.183342   \n",
       "chlorides                        -0.280407  0.375136  0.044047   0.397916   \n",
       "free sulfur dioxide               0.727979  0.028492 -0.154337  -0.200014   \n",
       "total sulfur dioxide              1.000000  0.021876 -0.238555  -0.277615   \n",
       "density                           0.021876  1.000000  0.020076   0.275902   \n",
       "pH                               -0.238555  0.020076  1.000000   0.187248   \n",
       "sulphates                        -0.277615  0.275902  0.187248   1.000000   \n",
       "alcohol                          -0.262143 -0.704379  0.117032  -0.008442   \n",
       "quality                          -0.032997 -0.313020  0.017294   0.034776   \n",
       "\n",
       "                       alcohol   quality  \n",
       "fixed acidity        -0.098110 -0.076043  \n",
       "volatile acidity     -0.043004 -0.269887  \n",
       "citric acid          -0.013144  0.085007  \n",
       "residual sugar       -0.367185 -0.032778  \n",
       "chlorides            -0.260111 -0.202481  \n",
       "free sulfur dioxide  -0.183779  0.077868  \n",
       "total sulfur dioxide -0.262143 -0.032997  \n",
       "density              -0.704379 -0.313020  \n",
       "pH                    0.117032  0.017294  \n",
       "sulphates            -0.008442  0.034776  \n",
       "alcohol               1.000000  0.445432  \n",
       "quality               0.445432  1.000000  "
      ]
     },
     "execution_count": 21,
     "metadata": {},
     "output_type": "execute_result"
    }
   ],
   "source": [
    "# Get correlation matrix for numerical variables.\n",
    "wine_cleaned_df.corr()"
   ]
  },
  {
   "cell_type": "code",
   "execution_count": 22,
   "metadata": {},
   "outputs": [
    {
     "data": {
      "image/png": "[encoded data removed]",
      "text/plain": [
       "<Figure size 720x576 with 2 Axes>"
      ]
     },
     "metadata": {},
     "output_type": "display_data"
    }
   ],
   "source": [
    "# Make the correlation matrices.\n",
    "corrmat_wine = wine_cleaned_df.corr()\n",
    "\n",
    "# Draw the heatmap using seaborn.\n",
    "\n",
    "plt.figure(figsize=(10,8))\n",
    "\n",
    "sns.heatmap(corrmat_wine, square=True, annot=True, linewidths=0.5)\n",
    "plt.title(\"correlation matrix (Quality)\")\n",
    "\n",
    "plt.show()"
   ]
  },
  {
   "cell_type": "code",
   "execution_count": 23,
   "metadata": {},
   "outputs": [],
   "source": [
    "import warnings\n",
    "warnings.filterwarnings('ignore')\n",
    "\n",
    "# Convert type columns to numerical.\n",
    "wine_cleaned_df[\"type\"] = pd.get_dummies(wine_cleaned_df.type, drop_first=True)"
   ]
  },
  {
   "cell_type": "code",
   "execution_count": 24,
   "metadata": {},
   "outputs": [],
   "source": [
    "# Convert target column quality into binary column.\n",
    "# Define wine quality less than or equal 5 as 0, means not good quality.\n",
    "# Define wine quality more than 5 as 1, good quality.\n",
    "\n",
    "wine_cleaned_df['quality_c'] = np.where(wine_cleaned_df['quality']<=5, 0,1)"
   ]
  },
  {
   "cell_type": "code",
   "execution_count": 25,
   "metadata": {
    "scrolled": false
   },
   "outputs": [
    {
     "data": {
      "text/plain": [
       "1    4052\n",
       "0    2343\n",
       "Name: quality_c, dtype: int64"
      ]
     },
     "execution_count": 25,
     "metadata": {},
     "output_type": "execute_result"
    }
   ],
   "source": [
    "wine_cleaned_df['quality_c'].value_counts()"
   ]
  },
  {
   "cell_type": "code",
   "execution_count": 26,
   "metadata": {},
   "outputs": [
    {
     "data": {
      "text/plain": [
       "6    43.580923\n",
       "5    32.916341\n",
       "7    16.763096\n",
       "4     3.315090\n",
       "8     2.939797\n",
       "3     0.406568\n",
       "9     0.078186\n",
       "Name: quality, dtype: float64"
      ]
     },
     "execution_count": 26,
     "metadata": {},
     "output_type": "execute_result"
    }
   ],
   "source": [
    "quality_percentage = wine_cleaned_df['quality'].value_counts()/wine_cleaned_df.shape[0]*100\n",
    "quality_percentage"
   ]
  },
  {
   "cell_type": "markdown",
   "metadata": {},
   "source": [
    "## Build models\n",
    "\n",
    "In this capstone, several supervised machine learning models are used for the prediction.\n",
    "\n",
    "  1. Logistic regression\n",
    "  2. Decision Tree\n",
    "  3. Random Forest\n",
    "  4. Support Vector\n",
    "  5. KNeighbors\n",
    "  6. Gaussian Naive Bayes\n",
    "  7. GradientBoosting\n",
    "\n",
    "Based on the target variable is a category, the classification models will be created."
   ]
  },
  {
   "cell_type": "markdown",
   "metadata": {},
   "source": [
    "### 1. Logistic Regression"
   ]
  },
  {
   "cell_type": "code",
   "execution_count": 27,
   "metadata": {},
   "outputs": [
    {
     "name": "stdout",
     "output_type": "stream",
     "text": [
      "The number of observations in training set is 5116\n",
      "The number of observations in test set is 1279\n"
     ]
    }
   ],
   "source": [
    "# Target variable, binary variable not good (0) and good (1)\n",
    "Y = wine_cleaned_df['quality_c']\n",
    "# Independent variables\n",
    "X = wine_cleaned_df.loc[:, ~wine_cleaned_df.columns.isin(['quality', 'quality_c'])]\n",
    "\n",
    "# Build the model and tune a variety of model.\n",
    "import time\n",
    "start_time = time.perf_counter()\n",
    "\n",
    "lr = LogisticRegression(solver='lbfgs', max_iter=1500, class_weight='balanced')\n",
    "\n",
    "from sklearn.model_selection import train_test_split\n",
    "X_train, X_test, y_train, y_test = train_test_split(X, Y, test_size=0.2, random_state=500)\n",
    "\n",
    "print(\"The number of observations in training set is {}\".format(X_train.shape[0]))\n",
    "print(\"The number of observations in test set is {}\".format(X_test.shape[0]))\n",
    "\n",
    "lr.fit(X_train, y_train)\n",
    "\n",
    "# Make a prediction\n",
    "\n",
    "y_pred_test = lr.predict(X_test)\n",
    "y_pred_train = lr.predict(X_train)"
   ]
  },
  {
   "cell_type": "code",
   "execution_count": 28,
   "metadata": {},
   "outputs": [
    {
     "name": "stdout",
     "output_type": "stream",
     "text": [
      "Runtime: 2.4209279000000095 Seconds\n",
      "-------------------------------------------------\n",
      "[0.71582031 0.72140762 0.73607038 0.73020528 0.73900293]\n",
      "-------------------------------------------------\n",
      "Accuracy for train set: 0.729 (+/- 0.017)\n",
      "Accuracy of train set: 0.731 \n",
      "Accuracy of test set: 0.717 \n",
      "-------------------------------------------------\n",
      "[[355 109]\n",
      " [253 562]]\n",
      "-------------------------------------------------\n",
      "              precision    recall  f1-score   support\n",
      "\n",
      "           0       0.58      0.77      0.66       464\n",
      "           1       0.84      0.69      0.76       815\n",
      "\n",
      "    accuracy                           0.72      1279\n",
      "   macro avg       0.71      0.73      0.71      1279\n",
      "weighted avg       0.75      0.72      0.72      1279\n",
      "\n"
     ]
    }
   ],
   "source": [
    "# Apply cross validation for Logistic Regression model\n",
    "\n",
    "score = cross_val_score(lr, X_train, y_train, cv=5)\n",
    "runtime = time.perf_counter() - start_time\n",
    "print(\"Runtime: {} Seconds\".format(runtime))\n",
    "print('-------------------------------------------------')\n",
    "print(score)\n",
    "print('-------------------------------------------------')\n",
    "print(\"Accuracy for train set: %0.3f (+/- %0.3f)\" % (score.mean(), score.std() * 2))\n",
    "print(\"Accuracy of train set: %0.3f \" %lr.score(X_train, y_train))\n",
    "print(\"Accuracy of test set: %0.3f \" %lr.score(X_test, y_test))\n",
    "print('-------------------------------------------------')\n",
    "print(confusion_matrix(y_test,y_pred_test))\n",
    "print('-------------------------------------------------')\n",
    "print(classification_report(y_test,y_pred_test))"
   ]
  },
  {
   "cell_type": "code",
   "execution_count": 29,
   "metadata": {},
   "outputs": [],
   "source": [
    "# Create the perfomance report from the cross_validate for comparison.\n",
    "from sklearn.model_selection import cross_validate\n",
    "scoring = ['accuracy', 'precision_macro', 'recall_macro' , 'f1_weighted', 'roc_auc']\n",
    "scores = cross_validate(lr, X_train, y_train, scoring=scoring, cv=5)\n",
    "\n",
    "sorted(scores.keys())\n",
    "\n",
    "lr_fit_time = scores['fit_time'].mean()\n",
    "lr_score_time = scores['score_time'].mean()\n",
    "lr_accuracy = scores['test_accuracy'].mean()\n",
    "lr_precision = scores['test_precision_macro'].mean()\n",
    "lr_recall = scores['test_recall_macro'].mean()\n",
    "lr_f1 = scores['test_f1_weighted'].mean()\n",
    "lr_roc = scores['test_roc_auc'].mean()"
   ]
  },
  {
   "cell_type": "code",
   "execution_count": 30,
   "metadata": {},
   "outputs": [
    {
     "name": "stdout",
     "output_type": "stream",
     "text": [
      "{'C': 10, 'class_weight': None, 'max_iter': 1000, 'solver': 'newton-cg'}\n"
     ]
    }
   ],
   "source": [
    "# Target variable\n",
    "Y1 = wine_cleaned_df['quality_c']\n",
    "# Independent variables\n",
    "X1 = wine_cleaned_df.drop(['quality','quality_c'], axis=1)\n",
    "\n",
    "lr = LogisticRegression()\n",
    "\n",
    "X1_train, X1_test, y1_train, y1_test = train_test_split(X1, Y1, test_size=0.2, random_state=500)\n",
    "\n",
    "from sklearn.model_selection import GridSearchCV\n",
    "\n",
    "parameters = [{'C': [1.0, 10, 100, 1000], 'class_weight':[None, 'balanced'], \n",
    "               'solver':['lbfgs','newton-cg'],'max_iter':[1000, 1500, 2000] }]\n",
    "\n",
    "\n",
    "grid_search = GridSearchCV(estimator=lr,\n",
    "                          param_grid=parameters,\n",
    "                          cv=5)\n",
    "\n",
    "grid_search =  grid_search.fit(X1_train, y1_train)\n",
    "print(grid_search.best_params_)"
   ]
  },
  {
   "cell_type": "markdown",
   "metadata": {},
   "source": [
    "### 2. Decision Tree"
   ]
  },
  {
   "cell_type": "code",
   "execution_count": 31,
   "metadata": {},
   "outputs": [
    {
     "name": "stdout",
     "output_type": "stream",
     "text": [
      "Runtime: 0.1069344000000001 Seconds\n",
      "-------------------------------------------------\n",
      "[0.73925781 0.72531769 0.72140762 0.74486804 0.74095797]\n",
      "-------------------------------------------------\n",
      "Accuracy for train set: 0.734 (+/- 0.018)\n",
      "Accuracy of train set: 0.742 \n",
      "Accuracy of test set: 0.706 \n",
      "-------------------------------------------------\n",
      "[[373  91]\n",
      " [285 530]]\n",
      "-------------------------------------------------\n",
      "              precision    recall  f1-score   support\n",
      "\n",
      "           0       0.57      0.80      0.66       464\n",
      "           1       0.85      0.65      0.74       815\n",
      "\n",
      "    accuracy                           0.71      1279\n",
      "   macro avg       0.71      0.73      0.70      1279\n",
      "weighted avg       0.75      0.71      0.71      1279\n",
      "\n"
     ]
    }
   ],
   "source": [
    "# Target variable\n",
    "Y = wine_cleaned_df['quality_c']\n",
    "# Independent variables\n",
    "X = wine_cleaned_df.drop(['quality','quality_c'], axis=1)\n",
    "\n",
    "from sklearn.tree import DecisionTreeClassifier\n",
    "\n",
    "# Build the model and tune a variety of model.\n",
    "X_train, X_test, y_train, y_test = train_test_split(X, Y, test_size=0.2, random_state=500)\n",
    "\n",
    "import time\n",
    "start_time = time.perf_counter()\n",
    "\n",
    "dtc = DecisionTreeClassifier(max_depth=5, class_weight='balanced')\n",
    "dtc.fit(X_train, y_train)\n",
    "\n",
    "# Make a prediction\n",
    "y_pred_test = dtc.predict(X_test)\n",
    "y_pred_train = dtc.predict(X_train)\n",
    "\n",
    "# Apply cross validation for Decision Tree model\n",
    "score = cross_val_score(dtc, X_train, y_train, cv=5)\n",
    "\n",
    "runtime = time.perf_counter() - start_time\n",
    "print(\"Runtime: {} Seconds\".format(runtime))\n",
    "print('-------------------------------------------------')\n",
    "print(score)\n",
    "print('-------------------------------------------------')\n",
    "print(\"Accuracy for train set: %0.3f (+/- %0.3f)\" % (score.mean(), score.std() * 2))\n",
    "print(\"Accuracy of train set: %0.3f \" %dtc.score(X_train, y_train))\n",
    "print(\"Accuracy of test set: %0.3f \" %dtc.score(X_test, y_test))\n",
    "print('-------------------------------------------------')\n",
    "print(confusion_matrix(y_test,y_pred_test))\n",
    "print('-------------------------------------------------')\n",
    "print(classification_report(y_test,y_pred_test))"
   ]
  },
  {
   "cell_type": "code",
   "execution_count": 32,
   "metadata": {},
   "outputs": [],
   "source": [
    "# Create the perfomance report from the cross_validate for comparison.\n",
    "from sklearn.model_selection import cross_validate\n",
    "scoring = ['accuracy', 'precision_macro', 'recall_macro' , 'f1_weighted', 'roc_auc']\n",
    "scores = cross_validate(dtc, X_train, y_train, scoring=scoring, cv=5)\n",
    "\n",
    "sorted(scores.keys())\n",
    "dtc_fit_time = scores['fit_time'].mean()\n",
    "dtc_score_time = scores['score_time'].mean()\n",
    "dtc_accuracy = scores['test_accuracy'].mean()\n",
    "dtc_precision = scores['test_precision_macro'].mean()\n",
    "dtc_recall = scores['test_recall_macro'].mean()\n",
    "dtc_f1 = scores['test_f1_weighted'].mean()\n",
    "dtc_roc = scores['test_roc_auc'].mean()"
   ]
  },
  {
   "cell_type": "markdown",
   "metadata": {},
   "source": [
    "### 3. Random Forest Model"
   ]
  },
  {
   "cell_type": "code",
   "execution_count": 33,
   "metadata": {
    "scrolled": true
   },
   "outputs": [
    {
     "name": "stdout",
     "output_type": "stream",
     "text": [
      "Runtime: 0.546875 Seconds\n",
      "-------------------------------------------------\n",
      "[0.80371094 0.79472141 0.83088954 0.82013685 0.80840665]\n",
      "-------------------------------------------------\n",
      "Accuracy for train set: 0.812 (+/- 0.025)\n",
      "Accuracy of train set: 0.996 \n",
      "Accuracy of test set: 0.824 \n",
      "-------------------------------------------------\n",
      "[[333 131]\n",
      " [ 94 721]]\n",
      "-------------------------------------------------\n",
      "              precision    recall  f1-score   support\n",
      "\n",
      "           0       0.78      0.72      0.75       464\n",
      "           1       0.85      0.88      0.87       815\n",
      "\n",
      "    accuracy                           0.82      1279\n",
      "   macro avg       0.81      0.80      0.81      1279\n",
      "weighted avg       0.82      0.82      0.82      1279\n",
      "\n"
     ]
    }
   ],
   "source": [
    "# Target variable\n",
    "Y = wine_cleaned_df['quality_c']\n",
    "# Independent variables\n",
    "X = wine_cleaned_df.drop(['quality','quality_c'], axis=1)\n",
    "\n",
    "from sklearn.ensemble import RandomForestClassifier\n",
    "\n",
    "X_train, X_test, y_train, y_test = train_test_split(X, Y, test_size=0.2, random_state=500)\n",
    "\n",
    "# Build the model and tune a variety of model.\n",
    "import time\n",
    "start_time = time.process_time()\n",
    "\n",
    "rfc = RandomForestClassifier(n_estimators=15, class_weight='balanced')\n",
    "rfc.fit(X_train, y_train)\n",
    "\n",
    "# Make a prediction\n",
    "y_pred_test = rfc.predict(X_test)\n",
    "y_pred_train = rfc.predict(X_train)\n",
    "\n",
    "# Apply cross validation for Random Forest model\n",
    "\n",
    "score = cross_val_score(rfc, X_train, y_train, cv=5)\n",
    "runtime = time.process_time() - start_time\n",
    "print(\"Runtime: {} Seconds\".format(runtime))\n",
    "print('-------------------------------------------------')\n",
    "print(score)\n",
    "print('-------------------------------------------------')\n",
    "print(\"Accuracy for train set: %0.3f (+/- %0.3f)\" % (score.mean(), score.std() * 2))\n",
    "print(\"Accuracy of train set: %0.3f \" %rfc.score(X_train, y_train))\n",
    "print(\"Accuracy of test set: %0.3f \" %rfc.score(X_test, y_test))\n",
    "print('-------------------------------------------------')\n",
    "print(confusion_matrix(y_test,y_pred_test))\n",
    "print('-------------------------------------------------')\n",
    "print(classification_report(y_test,y_pred_test))"
   ]
  },
  {
   "cell_type": "code",
   "execution_count": 34,
   "metadata": {},
   "outputs": [],
   "source": [
    "# Create the perfomance report from the cross_validate for comparison.\n",
    "from sklearn.model_selection import cross_validate\n",
    "scoring = ['accuracy', 'precision_macro', 'recall_macro' , 'f1_weighted', 'roc_auc']\n",
    "scores = cross_validate(rfc, X_train, y_train, scoring=scoring, cv=5)\n",
    "\n",
    "sorted(scores.keys())\n",
    "rfc_fit_time = scores['fit_time'].mean()\n",
    "rfc_score_time = scores['score_time'].mean()\n",
    "rfc_accuracy = scores['test_accuracy'].mean()\n",
    "rfc_precision = scores['test_precision_macro'].mean()\n",
    "rfc_recall = scores['test_recall_macro'].mean()\n",
    "rfc_f1 = scores['test_f1_weighted'].mean()\n",
    "rfc_roc = scores['test_roc_auc'].mean()"
   ]
  },
  {
   "cell_type": "markdown",
   "metadata": {},
   "source": [
    "### 4. Support Vector Machines"
   ]
  },
  {
   "cell_type": "code",
   "execution_count": 35,
   "metadata": {},
   "outputs": [
    {
     "name": "stdout",
     "output_type": "stream",
     "text": [
      "Runtime: 72.4375 Seconds\n",
      "-------------------------------------------------\n",
      "[0.74804688 0.74584555 0.77517107 0.74193548 0.76246334]\n",
      "-------------------------------------------------\n",
      "Accuracy for train set: 0.755 (+/- 0.025)\n",
      "Accuracy of train set: 0.757 \n",
      "Accuracy of test set: 0.743 \n",
      "-------------------------------------------------\n",
      "[[262 202]\n",
      " [127 688]]\n",
      "-------------------------------------------------\n",
      "              precision    recall  f1-score   support\n",
      "\n",
      "           0       0.67      0.56      0.61       464\n",
      "           1       0.77      0.84      0.81       815\n",
      "\n",
      "    accuracy                           0.74      1279\n",
      "   macro avg       0.72      0.70      0.71      1279\n",
      "weighted avg       0.74      0.74      0.74      1279\n",
      "\n"
     ]
    }
   ],
   "source": [
    "# Target variable\n",
    "Y = wine_cleaned_df['quality_c']\n",
    "# Independent variables\n",
    "X = wine_cleaned_df.loc[:, ~wine_cleaned_df.columns.isin(['quality', 'quality_c'])]\n",
    "\n",
    "# Build the model and tune a variety of model.\n",
    "import time\n",
    "start_time = time.process_time()\n",
    "\n",
    "svm = SVC(kernel = 'linear')\n",
    "\n",
    "from sklearn.model_selection import train_test_split\n",
    "X_train, X_test, y_train, y_test = train_test_split(X, Y, test_size=0.2, random_state=500)\n",
    "svm.fit(X_train, y_train)\n",
    "\n",
    "# Make a prediction\n",
    "y_pred_test = svm.predict(X_test)\n",
    "y_pred_train = svm.predict(X_train)\n",
    "\n",
    "# Apply cross validation for Support Vector model\n",
    "\n",
    "score = cross_val_score(svm, X_train, y_train, cv=5)\n",
    "\n",
    "runtime = time.process_time() - start_time\n",
    "print(\"Runtime: {} Seconds\".format(runtime))\n",
    "print('-------------------------------------------------')\n",
    "\n",
    "print(score)\n",
    "print('-------------------------------------------------')\n",
    "print(\"Accuracy for train set: %0.3f (+/- %0.3f)\" % (score.mean(), score.std() * 2))\n",
    "print(\"Accuracy of train set: %0.3f \" %svm.score(X_train, y_train))\n",
    "print(\"Accuracy of test set: %0.3f \" %svm.score(X_test, y_test))\n",
    "print('-------------------------------------------------')\n",
    "print(confusion_matrix(y_test,y_pred_test))\n",
    "print('-------------------------------------------------')\n",
    "print(classification_report(y_test,y_pred_test))"
   ]
  },
  {
   "cell_type": "code",
   "execution_count": 36,
   "metadata": {},
   "outputs": [],
   "source": [
    "# Create the perfomance report from the cross_validate for comparison.\n",
    "from sklearn.model_selection import cross_validate\n",
    "scoring = ['accuracy', 'precision_macro', 'recall_macro' , 'f1_weighted', 'roc_auc']\n",
    "scores = cross_validate(svm, X_train, y_train, scoring=scoring, cv=5)\n",
    "\n",
    "sorted(scores.keys())\n",
    "svm_fit_time = scores['fit_time'].mean()\n",
    "svm_score_time = scores['score_time'].mean()\n",
    "svm_accuracy = scores['test_accuracy'].mean()\n",
    "svm_precision = scores['test_precision_macro'].mean()\n",
    "svm_recall = scores['test_recall_macro'].mean()\n",
    "svm_f1 = scores['test_f1_weighted'].mean()\n",
    "svm_roc = scores['test_roc_auc'].mean()"
   ]
  },
  {
   "cell_type": "markdown",
   "metadata": {},
   "source": [
    "### 5. KNeighbors Model"
   ]
  },
  {
   "cell_type": "code",
   "execution_count": 37,
   "metadata": {},
   "outputs": [
    {
     "name": "stdout",
     "output_type": "stream",
     "text": [
      "Runtime: 0.4375 Seconds\n",
      "-------------------------------------------------\n",
      "[0.6640625  0.68426197 0.69990225 0.67937439 0.69110459]\n",
      "-------------------------------------------------\n",
      "Accuracy for train set: 0.684 (+/- 0.024)\n",
      "Accuracy of train set: 0.761 \n",
      "Accuracy of test set: 0.690 \n",
      "-------------------------------------------------\n",
      "[[232 232]\n",
      " [165 650]]\n",
      "-------------------------------------------------\n",
      "              precision    recall  f1-score   support\n",
      "\n",
      "           0       0.58      0.50      0.54       464\n",
      "           1       0.74      0.80      0.77       815\n",
      "\n",
      "    accuracy                           0.69      1279\n",
      "   macro avg       0.66      0.65      0.65      1279\n",
      "weighted avg       0.68      0.69      0.68      1279\n",
      "\n"
     ]
    }
   ],
   "source": [
    "# Target variable\n",
    "Y = wine_cleaned_df['quality_c']\n",
    "# Independent variables\n",
    "X = wine_cleaned_df.loc[:, ~wine_cleaned_df.columns.isin(['quality', 'quality_c'])]\n",
    "\n",
    "# Build the model and tune a variety of model.\n",
    "from sklearn.neighbors import KNeighborsClassifier\n",
    "import time\n",
    "start_time = time.process_time()\n",
    "\n",
    "neighbors = KNeighborsClassifier(n_neighbors=7)\n",
    "\n",
    "X_train, X_test, y_train, y_test = train_test_split(X, Y, test_size=0.2, random_state=500)\n",
    "neighbors.fit(X_train,y_train)\n",
    "\n",
    "# Make a prediction\n",
    "y_pred_test = neighbors.predict(X_test)\n",
    "y_pred_train = neighbors.predict(X_train)\n",
    "\n",
    "# Apply cross validation for KNN model\n",
    "\n",
    "score = cross_val_score(neighbors, X_train, y_train, cv=5)\n",
    "runtime = time.process_time() - start_time\n",
    "print(\"Runtime: {} Seconds\".format(runtime))\n",
    "print('-------------------------------------------------')\n",
    "print(score)\n",
    "print('-------------------------------------------------')\n",
    "print(\"Accuracy for train set: %0.3f (+/- %0.3f)\" % (score.mean(), score.std() * 2))\n",
    "print(\"Accuracy of train set: %0.3f \" %neighbors.score(X_train, y_train))\n",
    "print(\"Accuracy of test set: %0.3f \" %neighbors.score(X_test, y_test))\n",
    "print('-------------------------------------------------')\n",
    "print(confusion_matrix(y_test,y_pred_test))\n",
    "print('-------------------------------------------------')\n",
    "print(classification_report(y_test,y_pred_test))"
   ]
  },
  {
   "cell_type": "code",
   "execution_count": 38,
   "metadata": {},
   "outputs": [],
   "source": [
    "# Create the perfomance report from the cross_validate for comparison.\n",
    "from sklearn.model_selection import cross_validate\n",
    "scoring = ['accuracy', 'precision_macro', 'recall_macro' , 'f1_weighted', 'roc_auc']\n",
    "scores = cross_validate(neighbors, X_train, y_train, scoring=scoring, cv=5)\n",
    "\n",
    "sorted(scores.keys())\n",
    "knn_fit_time = scores['fit_time'].mean()\n",
    "knn_score_time = scores['score_time'].mean()\n",
    "knn_accuracy = scores['test_accuracy'].mean()\n",
    "knn_precision = scores['test_precision_macro'].mean()\n",
    "knn_recall = scores['test_recall_macro'].mean()\n",
    "knn_f1 = scores['test_f1_weighted'].mean()\n",
    "knn_roc = scores['test_roc_auc'].mean()"
   ]
  },
  {
   "cell_type": "markdown",
   "metadata": {},
   "source": [
    "### 6. Gaussian Naive Bayes"
   ]
  },
  {
   "cell_type": "code",
   "execution_count": 39,
   "metadata": {},
   "outputs": [
    {
     "name": "stdout",
     "output_type": "stream",
     "text": [
      "Runtime: 0.015625 Seconds\n",
      "-------------------------------------------------\n",
      "[0.66796875 0.67644184 0.70478983 0.6568915  0.68328446]\n",
      "-------------------------------------------------\n",
      "Accuracy for train set: 0.678 (+/- 0.032)\n",
      "Accuracy of train set: 0.683 \n",
      "Accuracy of test set: 0.671 \n",
      "-------------------------------------------------\n",
      "[[219 245]\n",
      " [176 639]]\n",
      "-------------------------------------------------\n",
      "              precision    recall  f1-score   support\n",
      "\n",
      "           0       0.55      0.47      0.51       464\n",
      "           1       0.72      0.78      0.75       815\n",
      "\n",
      "    accuracy                           0.67      1279\n",
      "   macro avg       0.64      0.63      0.63      1279\n",
      "weighted avg       0.66      0.67      0.66      1279\n",
      "\n"
     ]
    }
   ],
   "source": [
    "# Target variable\n",
    "Y = wine_cleaned_df['quality_c']\n",
    "# Independent variables\n",
    "X = wine_cleaned_df.drop(['quality','quality_c'], axis=1)\n",
    "\n",
    "from sklearn.naive_bayes import GaussianNB\n",
    "# Build the model and tune a variety of model.\n",
    "import time\n",
    "start_time = time.process_time()\n",
    "\n",
    "gnb = GaussianNB()\n",
    "\n",
    "X_train, X_test, y_train, y_test = train_test_split(X, Y, test_size=0.2, random_state=500)\n",
    "gnb.fit(X_train, y_train)\n",
    "\n",
    "# Make a prediction\n",
    "y_pred_test = gnb.predict(X_test)\n",
    "y_pred_train = gnb.predict(X_train)\n",
    "\n",
    "# Apply cross validation for  Gaussian Naive Bayes model\n",
    "\n",
    "score = cross_val_score(gnb, X_train, y_train, cv=5)\n",
    "runtime = time.process_time() - start_time\n",
    "print(\"Runtime: {} Seconds\".format(runtime))\n",
    "print('-------------------------------------------------')\n",
    "print(score)\n",
    "print('-------------------------------------------------')\n",
    "print(\"Accuracy for train set: %0.3f (+/- %0.3f)\" % (score.mean(), score.std() * 2))\n",
    "print(\"Accuracy of train set: %0.3f \" %gnb.score(X_train, y_train))\n",
    "print(\"Accuracy of test set: %0.3f \" %gnb.score(X_test, y_test))\n",
    "print('-------------------------------------------------')\n",
    "print(confusion_matrix(y_test,y_pred_test))\n",
    "print('-------------------------------------------------')\n",
    "print(classification_report(y_test,y_pred_test))"
   ]
  },
  {
   "cell_type": "code",
   "execution_count": 40,
   "metadata": {},
   "outputs": [],
   "source": [
    "# Create the perfomance report from the cross_validate for comparison.\n",
    "from sklearn.model_selection import cross_validate\n",
    "scoring = ['accuracy', 'precision_macro', 'recall_macro' , 'f1_weighted', 'roc_auc']\n",
    "scores = cross_validate(gnb, X_train, y_train, scoring=scoring, cv=5)\n",
    "\n",
    "sorted(scores.keys())\n",
    "gnb_fit_time = scores['fit_time'].mean()\n",
    "gnb_score_time = scores['score_time'].mean()\n",
    "gnb_accuracy = scores['test_accuracy'].mean()\n",
    "gnb_precision = scores['test_precision_macro'].mean()\n",
    "gnb_recall = scores['test_recall_macro'].mean()\n",
    "gnb_f1 = scores['test_f1_weighted'].mean()\n",
    "gnb_roc = scores['test_roc_auc'].mean()"
   ]
  },
  {
   "cell_type": "markdown",
   "metadata": {},
   "source": [
    "### 7. GradientBoosting Model"
   ]
  },
  {
   "cell_type": "code",
   "execution_count": 41,
   "metadata": {},
   "outputs": [
    {
     "name": "stdout",
     "output_type": "stream",
     "text": [
      "Runtime: 18.265625 Seconds\n",
      "-------------------------------------------------\n",
      "[0.81640625 0.79472141 0.82111437 0.79472141 0.79569892]\n",
      "-------------------------------------------------\n",
      "Accuracy for train set: 0.805 (+/- 0.023)\n",
      "Accuracy of train set: 0.942 \n",
      "Accuracy of test set: 0.808 \n",
      "-------------------------------------------------\n",
      "[[334 130]\n",
      " [116 699]]\n",
      "-------------------------------------------------\n",
      "              precision    recall  f1-score   support\n",
      "\n",
      "           0       0.74      0.72      0.73       464\n",
      "           1       0.84      0.86      0.85       815\n",
      "\n",
      "    accuracy                           0.81      1279\n",
      "   macro avg       0.79      0.79      0.79      1279\n",
      "weighted avg       0.81      0.81      0.81      1279\n",
      "\n"
     ]
    }
   ],
   "source": [
    "# Target variable\n",
    "Y = wine_cleaned_df['quality_c']\n",
    "# Independent variables\n",
    "X = wine_cleaned_df.loc[:, ~wine_cleaned_df.columns.isin(['quality', 'quality_c'])]\n",
    "\n",
    "# Build the model and tune a variety of model.\n",
    "# We'll make 400 iterations, use 2-deep trees, and set our loss function.\n",
    "import time\n",
    "start_time = time.process_time()\n",
    "\n",
    "X_train, X_test, y_train, y_test = train_test_split(X, Y, test_size=0.2, random_state=500)\n",
    "\n",
    "# Initialize and fit the model.\n",
    "gbc = ensemble.GradientBoostingClassifier(n_estimators=400,\n",
    "          max_depth=4,\n",
    "          loss='deviance')\n",
    "gbc.fit(X_train, y_train)\n",
    "\n",
    "# Make a prediction\n",
    "y_pred_train = gbc.predict(X_train)\n",
    "y_pred_test = gbc.predict(X_test)\n",
    "\n",
    "# Apply cross validation for Gradient Boosting model\n",
    "\n",
    "score = cross_val_score(gbc, X_train, y_train, cv=5)\n",
    "\n",
    "runtime = time.process_time() - start_time\n",
    "print(\"Runtime: {} Seconds\".format(runtime))\n",
    "print('-------------------------------------------------')\n",
    "print(score)\n",
    "print('-------------------------------------------------')\n",
    "print(\"Accuracy for train set: %0.3f (+/- %0.3f)\" % (score.mean(), score.std() * 2))\n",
    "print(\"Accuracy of train set: %0.3f \" %gbc.score(X_train, y_train))\n",
    "print(\"Accuracy of test set: %0.3f \" %gbc.score(X_test, y_test))\n",
    "print('-------------------------------------------------')\n",
    "print(confusion_matrix(y_test,y_pred_test))\n",
    "print('-------------------------------------------------')\n",
    "print(classification_report(y_test,y_pred_test))"
   ]
  },
  {
   "cell_type": "code",
   "execution_count": 42,
   "metadata": {},
   "outputs": [],
   "source": [
    "# Create the perfomance report from the cross_validate for comparison.\n",
    "from sklearn.model_selection import cross_validate\n",
    "scoring = ['accuracy', 'precision_macro', 'recall_macro' , 'f1_weighted', 'roc_auc']\n",
    "scores = cross_validate(gbc, X_train, y_train, scoring=scoring, cv=5)\n",
    "\n",
    "sorted(scores.keys())\n",
    "gbc_fit_time = scores['fit_time'].mean()\n",
    "gbc_score_time = scores['score_time'].mean()\n",
    "gbc_accuracy = scores['test_accuracy'].mean()\n",
    "gbc_precision = scores['test_precision_macro'].mean()\n",
    "gbc_recall = scores['test_recall_macro'].mean()\n",
    "gbc_f1 = scores['test_f1_weighted'].mean()\n",
    "gbc_roc = scores['test_roc_auc'].mean()"
   ]
  },
  {
   "cell_type": "markdown",
   "metadata": {},
   "source": [
    "### Compare the performance of the models"
   ]
  },
  {
   "cell_type": "code",
   "execution_count": 43,
   "metadata": {},
   "outputs": [
    {
     "data": {
      "text/html": [
       "<div>\n",
       "<style scoped>\n",
       "    .dataframe tbody tr th:only-of-type {\n",
       "        vertical-align: middle;\n",
       "    }\n",
       "\n",
       "    .dataframe tbody tr th {\n",
       "        vertical-align: top;\n",
       "    }\n",
       "\n",
       "    .dataframe thead th {\n",
       "        text-align: right;\n",
       "    }\n",
       "</style>\n",
       "<table border=\"1\" class=\"dataframe\">\n",
       "  <thead>\n",
       "    <tr style=\"text-align: right;\">\n",
       "      <th></th>\n",
       "      <th>Model</th>\n",
       "      <th>Fit_time</th>\n",
       "      <th>Score_time</th>\n",
       "      <th>Accuracy</th>\n",
       "      <th>Precision</th>\n",
       "      <th>Recall</th>\n",
       "      <th>F1_score</th>\n",
       "      <th>ROC_AUC</th>\n",
       "    </tr>\n",
       "  </thead>\n",
       "  <tbody>\n",
       "    <tr>\n",
       "      <th>2</th>\n",
       "      <td>Random Forest</td>\n",
       "      <td>0.081269</td>\n",
       "      <td>0.010224</td>\n",
       "      <td>0.813137</td>\n",
       "      <td>0.802591</td>\n",
       "      <td>0.789592</td>\n",
       "      <td>0.811082</td>\n",
       "      <td>0.875251</td>\n",
       "    </tr>\n",
       "    <tr>\n",
       "      <th>6</th>\n",
       "      <td>GradientBoosting</td>\n",
       "      <td>2.931924</td>\n",
       "      <td>0.016582</td>\n",
       "      <td>0.805901</td>\n",
       "      <td>0.793356</td>\n",
       "      <td>0.783977</td>\n",
       "      <td>0.804270</td>\n",
       "      <td>0.865319</td>\n",
       "    </tr>\n",
       "    <tr>\n",
       "      <th>3</th>\n",
       "      <td>Support Vector Machines</td>\n",
       "      <td>10.886896</td>\n",
       "      <td>0.048113</td>\n",
       "      <td>0.754692</td>\n",
       "      <td>0.740874</td>\n",
       "      <td>0.715380</td>\n",
       "      <td>0.747838</td>\n",
       "      <td>0.804608</td>\n",
       "    </tr>\n",
       "    <tr>\n",
       "      <th>1</th>\n",
       "      <td>Decision Tree</td>\n",
       "      <td>0.015843</td>\n",
       "      <td>0.002863</td>\n",
       "      <td>0.734166</td>\n",
       "      <td>0.725343</td>\n",
       "      <td>0.739702</td>\n",
       "      <td>0.738252</td>\n",
       "      <td>0.797844</td>\n",
       "    </tr>\n",
       "    <tr>\n",
       "      <th>0</th>\n",
       "      <td>Logistic Regression</td>\n",
       "      <td>0.409236</td>\n",
       "      <td>0.006443</td>\n",
       "      <td>0.728501</td>\n",
       "      <td>0.717966</td>\n",
       "      <td>0.732194</td>\n",
       "      <td>0.732761</td>\n",
       "      <td>0.805933</td>\n",
       "    </tr>\n",
       "    <tr>\n",
       "      <th>4</th>\n",
       "      <td>KNeighbors</td>\n",
       "      <td>0.006638</td>\n",
       "      <td>0.042865</td>\n",
       "      <td>0.683741</td>\n",
       "      <td>0.655385</td>\n",
       "      <td>0.639336</td>\n",
       "      <td>0.675089</td>\n",
       "      <td>0.709822</td>\n",
       "    </tr>\n",
       "    <tr>\n",
       "      <th>5</th>\n",
       "      <td>Gaussian Naive Bayes</td>\n",
       "      <td>0.003122</td>\n",
       "      <td>0.006249</td>\n",
       "      <td>0.677875</td>\n",
       "      <td>0.649134</td>\n",
       "      <td>0.637369</td>\n",
       "      <td>0.671215</td>\n",
       "      <td>0.742163</td>\n",
       "    </tr>\n",
       "  </tbody>\n",
       "</table>\n",
       "</div>"
      ],
      "text/plain": [
       "                     Model   Fit_time  Score_time  Accuracy  Precision  \\\n",
       "2            Random Forest   0.081269    0.010224  0.813137   0.802591   \n",
       "6         GradientBoosting   2.931924    0.016582  0.805901   0.793356   \n",
       "3  Support Vector Machines  10.886896    0.048113  0.754692   0.740874   \n",
       "1            Decision Tree   0.015843    0.002863  0.734166   0.725343   \n",
       "0      Logistic Regression   0.409236    0.006443  0.728501   0.717966   \n",
       "4               KNeighbors   0.006638    0.042865  0.683741   0.655385   \n",
       "5     Gaussian Naive Bayes   0.003122    0.006249  0.677875   0.649134   \n",
       "\n",
       "     Recall  F1_score   ROC_AUC  \n",
       "2  0.789592  0.811082  0.875251  \n",
       "6  0.783977  0.804270  0.865319  \n",
       "3  0.715380  0.747838  0.804608  \n",
       "1  0.739702  0.738252  0.797844  \n",
       "0  0.732194  0.732761  0.805933  \n",
       "4  0.639336  0.675089  0.709822  \n",
       "5  0.637369  0.671215  0.742163  "
      ]
     },
     "execution_count": 43,
     "metadata": {},
     "output_type": "execute_result"
    }
   ],
   "source": [
    "# Create a table for comparing the evaluation results of the models.\n",
    "models_comparison_df = pd.DataFrame({\n",
    "    'Model':['Logistic Regression', 'Decision Tree','Random Forest', 'Support Vector Machines', 'KNeighbors', 'Gaussian Naive Bayes',\n",
    "             'GradientBoosting'],\n",
    "    'Fit_time':[lr_fit_time, dtc_fit_time, rfc_fit_time, svm_fit_time, knn_fit_time, gnb_fit_time, gbc_fit_time],\n",
    "    'Score_time':[lr_score_time, dtc_score_time, rfc_score_time, svm_score_time,knn_score_time,gnb_score_time,gbc_score_time,],\n",
    "    'Accuracy':[lr_accuracy,dtc_accuracy,rfc_accuracy,svm_accuracy,knn_accuracy,gnb_accuracy,gbc_accuracy],\n",
    "    'Precision':[lr_precision,dtc_precision,rfc_precision,svm_precision,knn_precision,gnb_precision,gbc_precision],\n",
    "    'Recall':[lr_recall,dtc_recall,rfc_recall,svm_recall,knn_recall,gnb_recall,gbc_recall],\n",
    "    'F1_score':[lr_f1,dtc_f1,rfc_f1,svm_f1,knn_f1,gnb_f1,gbc_f1],\n",
    "    'ROC_AUC':[lr_roc,dtc_roc,rfc_roc,svm_roc,knn_roc,gnb_roc,gbc_roc],\n",
    "}, columns=['Model','Fit_time', 'Score_time','Accuracy','Precision','Recall','F1_score','ROC_AUC'])\n",
    "\n",
    "models_comparison_df.sort_values(by='Accuracy', ascending=False)\n"
   ]
  },
  {
   "cell_type": "code",
   "execution_count": 44,
   "metadata": {},
   "outputs": [
    {
     "data": {
      "text/html": [
       "<style  type=\"text/css\" >\n",
       "    #T_bf464500_512e_11ea_8e53_c0b5d74181b2 tr:hover {\n",
       "          background-color: yellow;\n",
       "    }</style><table id=\"T_bf464500_512e_11ea_8e53_c0b5d74181b2\" ><thead>    <tr>        <th class=\"blank level0\" ></th>        <th class=\"col_heading level0 col0\" >Model</th>        <th class=\"col_heading level0 col1\" >Fit_time</th>        <th class=\"col_heading level0 col2\" >Score_time</th>        <th class=\"col_heading level0 col3\" >Accuracy</th>        <th class=\"col_heading level0 col4\" >Precision</th>        <th class=\"col_heading level0 col5\" >Recall</th>        <th class=\"col_heading level0 col6\" >F1_score</th>        <th class=\"col_heading level0 col7\" >ROC_AUC</th>    </tr></thead><tbody>\n",
       "                <tr>\n",
       "                        <th id=\"T_bf464500_512e_11ea_8e53_c0b5d74181b2level0_row0\" class=\"row_heading level0 row0\" >2</th>\n",
       "                        <td id=\"T_bf464500_512e_11ea_8e53_c0b5d74181b2row0_col0\" class=\"data row0 col0\" >Random Forest</td>\n",
       "                        <td id=\"T_bf464500_512e_11ea_8e53_c0b5d74181b2row0_col1\" class=\"data row0 col1\" >0.081269</td>\n",
       "                        <td id=\"T_bf464500_512e_11ea_8e53_c0b5d74181b2row0_col2\" class=\"data row0 col2\" >0.010224</td>\n",
       "                        <td id=\"T_bf464500_512e_11ea_8e53_c0b5d74181b2row0_col3\" class=\"data row0 col3\" >0.813137</td>\n",
       "                        <td id=\"T_bf464500_512e_11ea_8e53_c0b5d74181b2row0_col4\" class=\"data row0 col4\" >0.802591</td>\n",
       "                        <td id=\"T_bf464500_512e_11ea_8e53_c0b5d74181b2row0_col5\" class=\"data row0 col5\" >0.789592</td>\n",
       "                        <td id=\"T_bf464500_512e_11ea_8e53_c0b5d74181b2row0_col6\" class=\"data row0 col6\" >0.811082</td>\n",
       "                        <td id=\"T_bf464500_512e_11ea_8e53_c0b5d74181b2row0_col7\" class=\"data row0 col7\" >0.875251</td>\n",
       "            </tr>\n",
       "            <tr>\n",
       "                        <th id=\"T_bf464500_512e_11ea_8e53_c0b5d74181b2level0_row1\" class=\"row_heading level0 row1\" >6</th>\n",
       "                        <td id=\"T_bf464500_512e_11ea_8e53_c0b5d74181b2row1_col0\" class=\"data row1 col0\" >GradientBoosting</td>\n",
       "                        <td id=\"T_bf464500_512e_11ea_8e53_c0b5d74181b2row1_col1\" class=\"data row1 col1\" >2.931924</td>\n",
       "                        <td id=\"T_bf464500_512e_11ea_8e53_c0b5d74181b2row1_col2\" class=\"data row1 col2\" >0.016582</td>\n",
       "                        <td id=\"T_bf464500_512e_11ea_8e53_c0b5d74181b2row1_col3\" class=\"data row1 col3\" >0.805901</td>\n",
       "                        <td id=\"T_bf464500_512e_11ea_8e53_c0b5d74181b2row1_col4\" class=\"data row1 col4\" >0.793356</td>\n",
       "                        <td id=\"T_bf464500_512e_11ea_8e53_c0b5d74181b2row1_col5\" class=\"data row1 col5\" >0.783977</td>\n",
       "                        <td id=\"T_bf464500_512e_11ea_8e53_c0b5d74181b2row1_col6\" class=\"data row1 col6\" >0.804270</td>\n",
       "                        <td id=\"T_bf464500_512e_11ea_8e53_c0b5d74181b2row1_col7\" class=\"data row1 col7\" >0.865319</td>\n",
       "            </tr>\n",
       "            <tr>\n",
       "                        <th id=\"T_bf464500_512e_11ea_8e53_c0b5d74181b2level0_row2\" class=\"row_heading level0 row2\" >3</th>\n",
       "                        <td id=\"T_bf464500_512e_11ea_8e53_c0b5d74181b2row2_col0\" class=\"data row2 col0\" >Support Vector Machines</td>\n",
       "                        <td id=\"T_bf464500_512e_11ea_8e53_c0b5d74181b2row2_col1\" class=\"data row2 col1\" >10.886896</td>\n",
       "                        <td id=\"T_bf464500_512e_11ea_8e53_c0b5d74181b2row2_col2\" class=\"data row2 col2\" >0.048113</td>\n",
       "                        <td id=\"T_bf464500_512e_11ea_8e53_c0b5d74181b2row2_col3\" class=\"data row2 col3\" >0.754692</td>\n",
       "                        <td id=\"T_bf464500_512e_11ea_8e53_c0b5d74181b2row2_col4\" class=\"data row2 col4\" >0.740874</td>\n",
       "                        <td id=\"T_bf464500_512e_11ea_8e53_c0b5d74181b2row2_col5\" class=\"data row2 col5\" >0.715380</td>\n",
       "                        <td id=\"T_bf464500_512e_11ea_8e53_c0b5d74181b2row2_col6\" class=\"data row2 col6\" >0.747838</td>\n",
       "                        <td id=\"T_bf464500_512e_11ea_8e53_c0b5d74181b2row2_col7\" class=\"data row2 col7\" >0.804608</td>\n",
       "            </tr>\n",
       "            <tr>\n",
       "                        <th id=\"T_bf464500_512e_11ea_8e53_c0b5d74181b2level0_row3\" class=\"row_heading level0 row3\" >1</th>\n",
       "                        <td id=\"T_bf464500_512e_11ea_8e53_c0b5d74181b2row3_col0\" class=\"data row3 col0\" >Decision Tree</td>\n",
       "                        <td id=\"T_bf464500_512e_11ea_8e53_c0b5d74181b2row3_col1\" class=\"data row3 col1\" >0.015843</td>\n",
       "                        <td id=\"T_bf464500_512e_11ea_8e53_c0b5d74181b2row3_col2\" class=\"data row3 col2\" >0.002863</td>\n",
       "                        <td id=\"T_bf464500_512e_11ea_8e53_c0b5d74181b2row3_col3\" class=\"data row3 col3\" >0.734166</td>\n",
       "                        <td id=\"T_bf464500_512e_11ea_8e53_c0b5d74181b2row3_col4\" class=\"data row3 col4\" >0.725343</td>\n",
       "                        <td id=\"T_bf464500_512e_11ea_8e53_c0b5d74181b2row3_col5\" class=\"data row3 col5\" >0.739702</td>\n",
       "                        <td id=\"T_bf464500_512e_11ea_8e53_c0b5d74181b2row3_col6\" class=\"data row3 col6\" >0.738252</td>\n",
       "                        <td id=\"T_bf464500_512e_11ea_8e53_c0b5d74181b2row3_col7\" class=\"data row3 col7\" >0.797844</td>\n",
       "            </tr>\n",
       "            <tr>\n",
       "                        <th id=\"T_bf464500_512e_11ea_8e53_c0b5d74181b2level0_row4\" class=\"row_heading level0 row4\" >0</th>\n",
       "                        <td id=\"T_bf464500_512e_11ea_8e53_c0b5d74181b2row4_col0\" class=\"data row4 col0\" >Logistic Regression</td>\n",
       "                        <td id=\"T_bf464500_512e_11ea_8e53_c0b5d74181b2row4_col1\" class=\"data row4 col1\" >0.409236</td>\n",
       "                        <td id=\"T_bf464500_512e_11ea_8e53_c0b5d74181b2row4_col2\" class=\"data row4 col2\" >0.006443</td>\n",
       "                        <td id=\"T_bf464500_512e_11ea_8e53_c0b5d74181b2row4_col3\" class=\"data row4 col3\" >0.728501</td>\n",
       "                        <td id=\"T_bf464500_512e_11ea_8e53_c0b5d74181b2row4_col4\" class=\"data row4 col4\" >0.717966</td>\n",
       "                        <td id=\"T_bf464500_512e_11ea_8e53_c0b5d74181b2row4_col5\" class=\"data row4 col5\" >0.732194</td>\n",
       "                        <td id=\"T_bf464500_512e_11ea_8e53_c0b5d74181b2row4_col6\" class=\"data row4 col6\" >0.732761</td>\n",
       "                        <td id=\"T_bf464500_512e_11ea_8e53_c0b5d74181b2row4_col7\" class=\"data row4 col7\" >0.805933</td>\n",
       "            </tr>\n",
       "            <tr>\n",
       "                        <th id=\"T_bf464500_512e_11ea_8e53_c0b5d74181b2level0_row5\" class=\"row_heading level0 row5\" >4</th>\n",
       "                        <td id=\"T_bf464500_512e_11ea_8e53_c0b5d74181b2row5_col0\" class=\"data row5 col0\" >KNeighbors</td>\n",
       "                        <td id=\"T_bf464500_512e_11ea_8e53_c0b5d74181b2row5_col1\" class=\"data row5 col1\" >0.006638</td>\n",
       "                        <td id=\"T_bf464500_512e_11ea_8e53_c0b5d74181b2row5_col2\" class=\"data row5 col2\" >0.042865</td>\n",
       "                        <td id=\"T_bf464500_512e_11ea_8e53_c0b5d74181b2row5_col3\" class=\"data row5 col3\" >0.683741</td>\n",
       "                        <td id=\"T_bf464500_512e_11ea_8e53_c0b5d74181b2row5_col4\" class=\"data row5 col4\" >0.655385</td>\n",
       "                        <td id=\"T_bf464500_512e_11ea_8e53_c0b5d74181b2row5_col5\" class=\"data row5 col5\" >0.639336</td>\n",
       "                        <td id=\"T_bf464500_512e_11ea_8e53_c0b5d74181b2row5_col6\" class=\"data row5 col6\" >0.675089</td>\n",
       "                        <td id=\"T_bf464500_512e_11ea_8e53_c0b5d74181b2row5_col7\" class=\"data row5 col7\" >0.709822</td>\n",
       "            </tr>\n",
       "            <tr>\n",
       "                        <th id=\"T_bf464500_512e_11ea_8e53_c0b5d74181b2level0_row6\" class=\"row_heading level0 row6\" >5</th>\n",
       "                        <td id=\"T_bf464500_512e_11ea_8e53_c0b5d74181b2row6_col0\" class=\"data row6 col0\" >Gaussian Naive Bayes</td>\n",
       "                        <td id=\"T_bf464500_512e_11ea_8e53_c0b5d74181b2row6_col1\" class=\"data row6 col1\" >0.003122</td>\n",
       "                        <td id=\"T_bf464500_512e_11ea_8e53_c0b5d74181b2row6_col2\" class=\"data row6 col2\" >0.006249</td>\n",
       "                        <td id=\"T_bf464500_512e_11ea_8e53_c0b5d74181b2row6_col3\" class=\"data row6 col3\" >0.677875</td>\n",
       "                        <td id=\"T_bf464500_512e_11ea_8e53_c0b5d74181b2row6_col4\" class=\"data row6 col4\" >0.649134</td>\n",
       "                        <td id=\"T_bf464500_512e_11ea_8e53_c0b5d74181b2row6_col5\" class=\"data row6 col5\" >0.637369</td>\n",
       "                        <td id=\"T_bf464500_512e_11ea_8e53_c0b5d74181b2row6_col6\" class=\"data row6 col6\" >0.671215</td>\n",
       "                        <td id=\"T_bf464500_512e_11ea_8e53_c0b5d74181b2row6_col7\" class=\"data row6 col7\" >0.742163</td>\n",
       "            </tr>\n",
       "    </tbody></table>"
      ],
      "text/plain": [
       "<pandas.io.formats.style.Styler at 0x220e7b6de10>"
      ]
     },
     "execution_count": 44,
     "metadata": {},
     "output_type": "execute_result"
    }
   ],
   "source": [
    "models_comparison_df.sort_values(by='Accuracy', ascending=False).style.set_table_styles(\n",
    "[{'selector': 'tr:hover',\n",
    "  'props': [('background-color', 'yellow')]}]\n",
    ")   "
   ]
  },
  {
   "cell_type": "markdown",
   "metadata": {},
   "source": [
    "From the models comparison table, it can be concluded that the Random Forest model is the best model for this wine quality datas set. It has the highest accuracy of about 80.8%. ROC value is also very good (0.873). Gradient Boosting model through tuning the parameter, it also has high accuracy but it needs more running time compared with the Random Forest. In addition, Support Vector Machines has the longest running time in the 7 models."
   ]
  },
  {
   "cell_type": "markdown",
   "metadata": {},
   "source": [
    "### Feature importance for the Random Forest Model"
   ]
  },
  {
   "cell_type": "code",
   "execution_count": 45,
   "metadata": {},
   "outputs": [
    {
     "data": {
      "text/plain": [
       "array([0.00533916, 0.06296613, 0.10982872, 0.07577047, 0.07643368,\n",
       "       0.07608493, 0.08033908, 0.07796664, 0.10673578, 0.06996193,\n",
       "       0.07455534, 0.18401813])"
      ]
     },
     "execution_count": 45,
     "metadata": {},
     "output_type": "execute_result"
    }
   ],
   "source": [
    "# Create feature importance for the Random Forest Model.\n",
    "rfc.feature_importances_"
   ]
  },
  {
   "cell_type": "code",
   "execution_count": 46,
   "metadata": {},
   "outputs": [
    {
     "data": {
      "image/png": "[encoded data removed]",
      "text/plain": [
       "<Figure size 432x288 with 1 Axes>"
      ]
     },
     "metadata": {},
     "output_type": "display_data"
    }
   ],
   "source": [
    "feature_importance = rfc.feature_importances_\n",
    "\n",
    "# Make importances relative to max importance.\n",
    "feature_importance = 100.0 * (feature_importance / feature_importance.max())\n",
    "sorted_idx = np.argsort(feature_importance)\n",
    "pos = np.arange(sorted_idx.shape[0]) + .5\n",
    "\n",
    "sns.set_style('white')\n",
    "plt.barh(pos, feature_importance[sorted_idx], align='center')\n",
    "plt.yticks(pos, X.columns[sorted_idx])\n",
    "plt.xlabel('Relative Importance')\n",
    "plt.title('Feature Importance')\n",
    "plt.show()"
   ]
  },
  {
   "cell_type": "markdown",
   "metadata": {},
   "source": [
    "It appears that alcohol, volatile acidity and density are the most important features in predicting wine quality. This is reasonable. Wines are alcoholic beverage. Density indicates the conversion of sugar to alcohol. Acidity and density (sugar) can influence the taste of the wine. Hence these features shows more important than others."
   ]
  },
  {
   "cell_type": "markdown",
   "metadata": {},
   "source": [
    "## Conclusions\n",
    "\n",
    "  1. From the models comparison, it can be observed that the Random Forest is the best model for predicting the wine quality.\n",
    "  2. The random forest model has about overall 82% accuracy for prediction.\n",
    "  3. The Gradient Boosting model is also a good model but has slow running speed compared to the Random Forest model.\n",
    "  4. Compared with other 6 models, support vector machines have the longest running time.\n",
    "  5. The three features of alcohol, volatile acidity and density seems the most important features in predicting wine quality.\n",
    "  6. The model built in this project is based on wine physicochemical properties and very good for predicting the wine quality. If physicochemical properties of wines are provided, the wine producer could gain insight and information about their wine quality through the model.\n",
    "  7. The data set gives the red and white wine info, but no any data about grape types, wine brand, location, temperature, etc. This limits the model in real world practical applications."
   ]
  },
  {
   "cell_type": "code",
   "execution_count": null,
   "metadata": {},
   "outputs": [],
   "source": []
  }
 ],
 "metadata": {
  "kernelspec": {
   "display_name": "Python 3",
   "language": "python",
   "name": "python3"
  },
  "language_info": {
   "codemirror_mode": {
    "name": "ipython",
    "version": 3
   },
   "file_extension": ".py",
   "mimetype": "text/x-python",
   "name": "python",
   "nbconvert_exporter": "python",
   "pygments_lexer": "ipython3",
   "version": "3.7.3"
  }
 },
 "nbformat": 4,
 "nbformat_minor": 2
}
