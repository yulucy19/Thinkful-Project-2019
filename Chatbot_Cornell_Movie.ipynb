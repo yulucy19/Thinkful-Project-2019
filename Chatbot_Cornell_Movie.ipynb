{
  "nbformat": 4,
  "nbformat_minor": 0,
  "metadata": {
    "colab": {
      "name": "Chatbot_Cornell Movie.ipynb",
      "provenance": [],
      "collapsed_sections": [],
      "machine_shape": "hm",
      "authorship_tag": "ABX9TyNRRxO+US7ogiU8kOMWlOYp",
      "include_colab_link": true
    },
    "kernelspec": {
      "name": "python3",
      "display_name": "Python 3"
    }
  },
  "cells": [
    {
      "cell_type": "markdown",
      "metadata": {
        "id": "view-in-github",
        "colab_type": "text"
      },
      "source": [
        "<a href=\"https://colab.research.google.com/github/yulucy19/Thinkful-Project-2019/blob/master/Chatbot_Cornell_Movie.ipynb\" target=\"_parent\"><img src=\"https://colab.research.google.com/assets/colab-badge.svg\" alt=\"Open In Colab\"/></a>"
      ]
    },
    {
      "cell_type": "markdown",
      "metadata": {
        "id": "l_QZkRyCowud",
        "colab_type": "text"
      },
      "source": [
        "In this assignment, I am going to work with a dataset called Cornell Movie--Dialogs Corpus released by the Cornell University to build a chatbot. The dataset contains conversations from more than 600 movies. You should access the dataset from the Thinkful database using the following credentials:"
      ]
    },
    {
      "cell_type": "code",
      "metadata": {
        "id": "KfWWowiXl0wc",
        "colab_type": "code",
        "colab": {
          "base_uri": "https://localhost:8080/",
          "height": 333
        },
        "outputId": "07c8a1a0-0cac-4c06-a234-17a3272d3460"
      },
      "source": [
        "import matplotlib.pyplot as plt\n",
        "import numpy as np\n",
        "import pandas as pd\n",
        "from sqlalchemy import create_engine\n",
        "import nltk\n",
        "import spacy\n",
        "import re\n",
        "\n",
        "import warnings\n",
        "warnings.filterwarnings(action=\"ignore\")\n",
        "\n",
        "!python -m spacy download en"
      ],
      "execution_count": 5,
      "outputs": [
        {
          "output_type": "stream",
          "text": [
            "Collecting en_core_web_sm==2.1.0\n",
            "\u001b[?25l  Downloading https://github.com/explosion/spacy-models/releases/download/en_core_web_sm-2.1.0/en_core_web_sm-2.1.0.tar.gz (11.1MB)\n",
            "\u001b[K     |████████████████████████████████| 11.1MB 608kB/s \n",
            "\u001b[?25hBuilding wheels for collected packages: en-core-web-sm\n",
            "  Building wheel for en-core-web-sm (setup.py) ... \u001b[?25l\u001b[?25hdone\n",
            "  Created wheel for en-core-web-sm: filename=en_core_web_sm-2.1.0-cp36-none-any.whl size=11074435 sha256=5e20ea22bc8eae306d32b0c9bde381327a503b1d17125ce95efebd4cdc36aabf\n",
            "  Stored in directory: /tmp/pip-ephem-wheel-cache-1g8o0edk/wheels/39/ea/3b/507f7df78be8631a7a3d7090962194cf55bc1158572c0be77f\n",
            "Successfully built en-core-web-sm\n",
            "Installing collected packages: en-core-web-sm\n",
            "  Found existing installation: en-core-web-sm 2.2.5\n",
            "    Uninstalling en-core-web-sm-2.2.5:\n",
            "      Successfully uninstalled en-core-web-sm-2.2.5\n",
            "Successfully installed en-core-web-sm-2.1.0\n",
            "\u001b[38;5;2m✔ Download and installation successful\u001b[0m\n",
            "You can now load the model via spacy.load('en_core_web_sm')\n",
            "\u001b[38;5;2m✔ Linking successful\u001b[0m\n",
            "/usr/local/lib/python3.6/dist-packages/en_core_web_sm -->\n",
            "/usr/local/lib/python3.6/dist-packages/spacy/data/en\n",
            "You can now load the model via spacy.load('en')\n"
          ],
          "name": "stdout"
        }
      ]
    },
    {
      "cell_type": "code",
      "metadata": {
        "id": "XwDgd5PKmZHO",
        "colab_type": "code",
        "colab": {
          "base_uri": "https://localhost:8080/",
          "height": 197
        },
        "outputId": "f3ed075f-5e5f-4ac9-844d-4e10e51237a2"
      },
      "source": [
        "postgres_user = 'dsbc_student'\n",
        "postgres_pw = '7*.8G9QH21'\n",
        "postgres_host = '142.93.121.174'\n",
        "postgres_port = '5432'\n",
        "postgres_db = 'cornell_movie_dialogs'\n",
        "\n",
        "engine = create_engine('postgresql://{}:{}@{}:{}/{}'.format(\n",
        "    postgres_user, postgres_pw, postgres_host, postgres_port, postgres_db))\n",
        "\n",
        "dialogs_df = pd.read_sql_query('select * from dialogs',con=engine)\n",
        "\n",
        "# no need for an open connection, as we're only doing a single query\n",
        "engine.dispose()\n",
        "\n",
        "dialogs_df.head(5)"
      ],
      "execution_count": 6,
      "outputs": [
        {
          "output_type": "execute_result",
          "data": {
            "text/html": [
              "<div>\n",
              "<style scoped>\n",
              "    .dataframe tbody tr th:only-of-type {\n",
              "        vertical-align: middle;\n",
              "    }\n",
              "\n",
              "    .dataframe tbody tr th {\n",
              "        vertical-align: top;\n",
              "    }\n",
              "\n",
              "    .dataframe thead th {\n",
              "        text-align: right;\n",
              "    }\n",
              "</style>\n",
              "<table border=\"1\" class=\"dataframe\">\n",
              "  <thead>\n",
              "    <tr style=\"text-align: right;\">\n",
              "      <th></th>\n",
              "      <th>index</th>\n",
              "      <th>dialogs</th>\n",
              "    </tr>\n",
              "  </thead>\n",
              "  <tbody>\n",
              "    <tr>\n",
              "      <th>0</th>\n",
              "      <td>0</td>\n",
              "      <td>Can we make this quick?  Roxanne Korrine and A...</td>\n",
              "    </tr>\n",
              "    <tr>\n",
              "      <th>1</th>\n",
              "      <td>1</td>\n",
              "      <td>Well, I thought we'd start with pronunciation,...</td>\n",
              "    </tr>\n",
              "    <tr>\n",
              "      <th>2</th>\n",
              "      <td>2</td>\n",
              "      <td>Not the hacking and gagging and spitting part....</td>\n",
              "    </tr>\n",
              "    <tr>\n",
              "      <th>3</th>\n",
              "      <td>3</td>\n",
              "      <td>Okay... then how 'bout we try out some French ...</td>\n",
              "    </tr>\n",
              "    <tr>\n",
              "      <th>4</th>\n",
              "      <td>4</td>\n",
              "      <td>You're asking me out.  That's so cute. What's ...</td>\n",
              "    </tr>\n",
              "  </tbody>\n",
              "</table>\n",
              "</div>"
            ],
            "text/plain": [
              "   index                                            dialogs\n",
              "0      0  Can we make this quick?  Roxanne Korrine and A...\n",
              "1      1  Well, I thought we'd start with pronunciation,...\n",
              "2      2  Not the hacking and gagging and spitting part....\n",
              "3      3  Okay... then how 'bout we try out some French ...\n",
              "4      4  You're asking me out.  That's so cute. What's ..."
            ]
          },
          "metadata": {
            "tags": []
          },
          "execution_count": 6
        }
      ]
    },
    {
      "cell_type": "code",
      "metadata": {
        "id": "OIFd2MUrmfcc",
        "colab_type": "code",
        "colab": {}
      },
      "source": [
        "nlp = spacy.load('en', disable=['parser', 'ner'])\n",
        "\n",
        "# below is necessary to avoid memory error of SpaCy\n",
        "nlp.add_pipe(nlp.create_pipe('sentencizer'))\n",
        "nlp.max_length = 20000000\n",
        "\n",
        "# all the processing work is done below, so it may take a while\n",
        "dialogs_doc = nlp(\" \".join(dialogs_df.dialogs))"
      ],
      "execution_count": 0,
      "outputs": []
    },
    {
      "cell_type": "code",
      "metadata": {
        "id": "ui-jEFqam1YX",
        "colab_type": "code",
        "colab": {
          "base_uri": "https://localhost:8080/",
          "height": 83
        },
        "outputId": "099033c0-79fc-44ef-cc37-64613304bf6b"
      },
      "source": [
        "# let's explore the objects we've built.\n",
        "print(\"The dialogs_doc object is a {} object.\".format(type(dialogs_doc)))\n",
        "print(\"It is {} tokens long\".format(len(dialogs_doc)))\n",
        "print(\"The first three tokens are '{}'\".format(dialogs_doc[:3]))\n",
        "print(\"The type of each token is {}\".format(type(dialogs_doc[0])))"
      ],
      "execution_count": 8,
      "outputs": [
        {
          "output_type": "stream",
          "text": [
            "The dialogs_doc object is a <class 'spacy.tokens.doc.Doc'> object.\n",
            "It is 4272659 tokens long\n",
            "The first three tokens are 'Can we make'\n",
            "The type of each token is <class 'spacy.tokens.token.Token'>\n"
          ],
          "name": "stdout"
        }
      ]
    },
    {
      "cell_type": "code",
      "metadata": {
        "id": "gu65gCNXpHa5",
        "colab_type": "code",
        "colab": {}
      },
      "source": [
        "# # group into sentences.\n",
        "# we use the sentences that has more than 1 character\n",
        "dialog_sents = [sent.text for sent in dialogs_doc.sents if len(sent.text) > 1]\n",
        "#dialog_sents"
      ],
      "execution_count": 0,
      "outputs": []
    },
    {
      "cell_type": "markdown",
      "metadata": {
        "id": "60QXeCMZqAs5",
        "colab_type": "text"
      },
      "source": [
        "**Building a chatbot using ChatterBot**"
      ]
    },
    {
      "cell_type": "code",
      "metadata": {
        "id": "MbTuYlqCr1jA",
        "colab_type": "code",
        "colab": {}
      },
      "source": [
        "# import libraries\n",
        "from chatterbot import ChatBot\n",
        "from chatterbot.trainers import ListTrainer, ChatterBotCorpusTrainer\n",
        "from chatterbot.conversation import Statement"
      ],
      "execution_count": 0,
      "outputs": []
    },
    {
      "cell_type": "code",
      "metadata": {
        "id": "V_auK0Ior2yl",
        "colab_type": "code",
        "colab": {
          "base_uri": "https://localhost:8080/",
          "height": 150
        },
        "outputId": "149d4624-b380-4cb2-d9d1-70623c24aeec"
      },
      "source": [
        "# create a chatbot\n",
        "chatbot = ChatBot(\"Dialogs\")\n",
        "# This is to remove the accumulated knowledge base\n",
        "chatbot.storage.drop()\n",
        "\n",
        "# create a new trainer for the chatbot \n",
        "trainer = ListTrainer(chatbot)\n",
        "\n",
        "# train the chatbot based on Cornell Movie Dialogs\n",
        "trainer.train(dialog_sents)"
      ],
      "execution_count": 11,
      "outputs": [
        {
          "output_type": "stream",
          "text": [
            "[nltk_data] Downloading package stopwords to /root/nltk_data...\n",
            "[nltk_data]   Unzipping corpora/stopwords.zip.\n",
            "[nltk_data] Downloading package wordnet to /root/nltk_data...\n",
            "[nltk_data]   Unzipping corpora/wordnet.zip.\n",
            "[nltk_data] Downloading package averaged_perceptron_tagger to\n",
            "[nltk_data]     /root/nltk_data...\n",
            "[nltk_data]   Unzipping taggers/averaged_perceptron_tagger.zip.\n",
            "List Trainer: [####################] 100%\n"
          ],
          "name": "stdout"
        }
      ]
    },
    {
      "cell_type": "code",
      "metadata": {
        "id": "0TTUja-exZPz",
        "colab_type": "code",
        "colab": {}
      },
      "source": [
        "import random\n",
        "GREETING_INPUTS = [\"hello\", \"hi\", \"greetings\", \"what's up\",\"hey\"]\n",
        "GREETING_RESPONSES = [\"hello\", \"hi\", \"hey\", \"hi there\"]\n",
        "def greeting(sentence):\n",
        "    for word in sentence.split():\n",
        "        if word.lower() in GREETING_INPUTS:\n",
        "            return random.choice(GREETING_RESPONSES)"
      ],
      "execution_count": 0,
      "outputs": []
    },
    {
      "cell_type": "code",
      "metadata": {
        "id": "2P1eLzX5sf4q",
        "colab_type": "code",
        "colab": {
          "base_uri": "https://localhost:8080/",
          "height": 800
        },
        "outputId": "b62d17b0-d8ce-4a57-cc8a-8fe0a5c2d6c9"
      },
      "source": [
        "print(\"ChatterBot: I will try to respond you reasonably. If you want to exit, type bye please.\")\n",
        "\n",
        "# below is the chatting\n",
        "while True:\n",
        "    \n",
        "    user_input = input(\"User: \")\n",
        "    user_input=user_input.lower()\n",
        "    \n",
        "    if(user_input!='bye'):\n",
        "        if(user_input == 'thanks' or user_input == 'thank you'):\n",
        "            break\n",
        "            print(\"ChatterBot: You're welcome.\")\n",
        "        else:\n",
        "            if(greeting(user_input) != None):\n",
        "                print(\"ChatterBot: \" + greeting(user_input))\n",
        "            else:\n",
        "                print(\"ChatterBot: \", end = \"\")\n",
        "                print(chatbot.get_response(user_input))\n",
        "    else:\n",
        "        print(\"ChatterBot: Bye! It was a great chat.\")\n",
        "        break"
      ],
      "execution_count": 14,
      "outputs": [
        {
          "output_type": "stream",
          "text": [
            "ChatterBot: I will try to respond you reasonably. If you want to exit, type bye please.\n",
            "User: hello\n",
            "ChatterBot: hey\n",
            "User: Are you like to watch movie?\n",
            "ChatterBot: Fine.\n",
            "User: Oh! Well, what kind of movie you like?\n",
            "ChatterBot: Fine.\n",
            "User: So how are you today?\n",
            "ChatterBot: I'd like to commission a work.\n",
            "User: What kind of work?\n",
            "ChatterBot: Buttholus extremus.\n",
            "User: Can we talk more about movie?\n",
            "ChatterBot: She's partial to Joey, not me Sure Then, go get her What'd you do to her?\n",
            "User: Oh no. I prefer talking about movies.\n",
            "ChatterBot: Why?\n",
            "User: Because, I'm kind of a descent person and like to respect the rule of law.\n",
            "ChatterBot: Who?\n",
            "User: me.\n",
            "ChatterBot: This endless ...blonde babble.\n",
            "User: Anyway, do you know the movie Superman?\n",
            "ChatterBot: I believe we share an art instructor Have fun tonight?\n",
            "User: Do you know something about technology?\n",
            "ChatterBot: I believe we share an art instructor Have fun tonight?\n",
            "User: No. What about artificial intelligence?\n",
            "ChatterBot: Something, apperently, of an unknown origin.\n",
            "User: Definitely.\n",
            "ChatterBot: I heard what happened.\n",
            "User: What happened?\n",
            "ChatterBot: We and my pal here have been taking it on the chin for the last few hours... You real down?\n",
            "User: Hmm, I think I need to go now.\n",
            "ChatterBot: Well, no... Then that's all you had to say.\n",
            "User: Yes, sorry. I need to work on my natural language processing homework_chatbot.\n",
            "ChatterBot: Wow Let's go.\n",
            "User: Do you also enjoy natural language processing?\n",
            "ChatterBot: I heard enough of it in school!\n",
            "User: That's great!\n",
            "ChatterBot: If not, speak now.\n",
            "User: Sorry but I have to go.\n",
            "ChatterBot: Well, no... Then that's all you had to say.\n",
            "User: Yes. Bye!\n",
            "ChatterBot: The fuck you didn't!...\n",
            "User: I wasn't expecting this.\n",
            "ChatterBot: He owes me money... I hear you've got visitors.\n",
            "User: No.\n",
            "ChatterBot: I found a picture of Jared Leto in one of her drawers, so I'm pretty sure she's not harboring same-sex tendencies.\n",
            "User: Bye\n",
            "ChatterBot: Bye! It was a great chat.\n"
          ],
          "name": "stdout"
        }
      ]
    },
    {
      "cell_type": "code",
      "metadata": {
        "id": "iqVL9HJNw0ns",
        "colab_type": "code",
        "colab": {}
      },
      "source": [
        ""
      ],
      "execution_count": 0,
      "outputs": []
    }
  ]
}